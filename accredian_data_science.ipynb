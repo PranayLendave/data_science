{
  "nbformat": 4,
  "nbformat_minor": 0,
  "metadata": {
    "colab": {
      "provenance": [],
      "collapsed_sections": [
        "urHpokW7DHb6",
        "xINVi7yoKcJE",
        "2BrQMyryjVNb",
        "mZNQpLrHOeTe",
        "sZ5tXOAiPkmY"
      ],
      "authorship_tag": "ABX9TyNamjcH1SJN0LYxvMSMI2o5",
      "include_colab_link": true
    },
    "kernelspec": {
      "name": "python3",
      "display_name": "Python 3"
    },
    "language_info": {
      "name": "python"
    }
  },
  "cells": [
    {
      "cell_type": "markdown",
      "metadata": {
        "id": "view-in-github",
        "colab_type": "text"
      },
      "source": [
        "<a href=\"https://colab.research.google.com/github/PranayLendave/data_science/blob/main/accredian_data_science.ipynb\" target=\"_parent\"><img src=\"https://colab.research.google.com/assets/colab-badge.svg\" alt=\"Open In Colab\"/></a>"
      ]
    },
    {
      "cell_type": "markdown",
      "source": [
        "## Notebook Ownership and Contact Details\n",
        "\n",
        "**Author:** Pranay Lendave  \n",
        "\n",
        "[LinkedIn](https://www.linkedin.com/in/pranay-lendave/)\n",
        "\n",
        "  [GitHub](https://github.com/PranayLendave)\n",
        "\n",
        "Feel free to contact me for any questions or feedback related to this notebook.\n"
      ],
      "metadata": {
        "id": "y47y5KKxhm9u"
      }
    },
    {
      "cell_type": "markdown",
      "source": [
        "# Transaction Fraud Detection Notebook\n",
        "\n",
        "\n"
      ],
      "metadata": {
        "id": "kyZ11jljBEMT"
      }
    },
    {
      "cell_type": "markdown",
      "source": [
        "## Introduction\n",
        "\n",
        "In this notebook, we will explore the topic of transaction fraud detection using data science techniques. Transaction fraud is a significant concern for financial institutions, online retailers, and any business that processes monetary transactions. Detecting fraudulent transactions is essential to protect customers and prevent financial losses.\n",
        "\n",
        "## Dataset\n",
        "\n",
        "For this project, we will be using a dataset containing transaction data. You can download the dataset from the following link:\n",
        "\n",
        "[Download the Dataset](https://drive.google.com/uc?export=download&confirm=6gh6&id=1VNpyNkGxHdskfdTNRSjjyNa5qC9u0JyV)\n",
        "\n",
        "[Dataset Columns Description](https://drive.google.com/uc?id=1VQ-HAm0oHbv0GmDKP2iqqFNc5aI91OLn&export=download)\n",
        "## Goals\n",
        "\n",
        "The main objectives of this notebook are as follows:\n",
        "\n",
        "1. Explore and visualize the dataset to gain insights into the characteristics of fraudulent and non-fraudulent transactions.\n",
        "2. Preprocess the data to prepare it for model training.\n",
        "3. Implement various machine learning algorithms to build transaction fraud detection models.\n",
        "4. Evaluate the performance of the models using appropriate metrics.\n",
        "5. Discuss and interpret the findings.\n",
        "\n",
        "Let's get started with the initial data exploration and visualization!\n"
      ],
      "metadata": {
        "id": "P022REumQtTu"
      }
    },
    {
      "cell_type": "markdown",
      "source": [
        "## Setup\n",
        "In this section, we will configure a set of libraries and proceed to download the dataset."
      ],
      "metadata": {
        "id": "urHpokW7DHb6"
      }
    },
    {
      "cell_type": "markdown",
      "source": [
        "In this cell, we are creating a directory named ```fraud_detection``` using the mkdir command with the -p flag, which ensures that the directory is created only if it doesn't already exist. The %cd command then changes the current working directory to \"fraud_detection\", allowing us to organize and access files related to the fraud detection project."
      ],
      "metadata": {
        "id": "-3mBLq1VQzvC"
      }
    },
    {
      "cell_type": "code",
      "source": [
        "!mkdir fraud_detection\n",
        "%cd fraud_detection"
      ],
      "metadata": {
        "id": "QJC3ZgvAyY-z",
        "colab": {
          "base_uri": "https://localhost:8080/"
        },
        "outputId": "c260a45b-03cc-4a9b-d72c-3bc21d87709f"
      },
      "execution_count": null,
      "outputs": [
        {
          "output_type": "stream",
          "name": "stdout",
          "text": [
            "/content/fraud_detection\n"
          ]
        }
      ]
    },
    {
      "cell_type": "markdown",
      "source": [
        "Below code downloads the dataset"
      ],
      "metadata": {
        "id": "eXKk3iCiEQ8g"
      }
    },
    {
      "cell_type": "code",
      "execution_count": null,
      "metadata": {
        "colab": {
          "base_uri": "https://localhost:8080/"
        },
        "id": "AHEjP1hvyGEx",
        "outputId": "22728f0b-2a27-4ca3-edc7-9aebbb17b60a"
      },
      "outputs": [
        {
          "output_type": "stream",
          "name": "stdout",
          "text": [
            "Downloading...\n",
            "From: https://drive.google.com/uc?id=1VNpyNkGxHdskfdTNRSjjyNa5qC9u0JyV\n",
            "To: /content/fraud_detection/Fraud.csv\n",
            "100% 494M/494M [00:08<00:00, 59.1MB/s]\n",
            "Downloading...\n",
            "From: https://drive.google.com/uc?id=1VQ-HAm0oHbv0GmDKP2iqqFNc5aI91OLn\n",
            "To: /content/fraud_detection/Data Dictionary.txt\n",
            "100% 1.30k/1.30k [00:00<00:00, 5.58MB/s]\n"
          ]
        }
      ],
      "source": [
        "!gdown 1VNpyNkGxHdskfdTNRSjjyNa5qC9u0JyV #For downloading dataset\n",
        "!gdown 1VQ-HAm0oHbv0GmDKP2iqqFNc5aI91OLn #for downloading dataset dictionary"
      ]
    },
    {
      "cell_type": "code",
      "source": [
        "%%capture\n",
        "!pip install pandas matplotlib"
      ],
      "metadata": {
        "id": "n9MqyBuvyr-b"
      },
      "execution_count": null,
      "outputs": []
    },
    {
      "cell_type": "code",
      "source": [
        "import os\n",
        "import pandas as pd\n",
        "import seaborn as sns\n",
        "import matplotlib.pyplot as plt\n",
        "import numpy as np\n",
        "import matplotlib.ticker as ticker\n",
        "from sklearn.model_selection import train_test_split\n",
        "\n",
        "\n",
        "pd.set_option('display.max_columns', None)"
      ],
      "metadata": {
        "id": "4DIimaWT6EeN"
      },
      "execution_count": null,
      "outputs": []
    },
    {
      "cell_type": "code",
      "source": [
        "# Replace '/content/fraud_det/Fraud.csv' with the actual file path if different\n",
        "file_path = '/content/fraud_detection/Fraud.csv'\n",
        "\n",
        "# Read the CSV file and load it into a DataFrame called 'df'\n",
        "df = pd.read_csv(file_path)"
      ],
      "metadata": {
        "id": "fR_2PBcQzESr"
      },
      "execution_count": null,
      "outputs": []
    },
    {
      "cell_type": "code",
      "source": [
        "df"
      ],
      "metadata": {
        "colab": {
          "base_uri": "https://localhost:8080/"
        },
        "id": "gYIEgtMWzHyQ",
        "outputId": "c92695eb-c570-4507-acd7-92b8eaa0d57b"
      },
      "execution_count": null,
      "outputs": [
        {
          "output_type": "execute_result",
          "data": {
            "text/plain": [
              "         step      type      amount     nameOrig  oldbalanceOrg  \\\n",
              "0           1   PAYMENT     9839.64  C1231006815      170136.00   \n",
              "1           1   PAYMENT     1864.28  C1666544295       21249.00   \n",
              "2           1  TRANSFER      181.00  C1305486145         181.00   \n",
              "3           1  CASH_OUT      181.00   C840083671         181.00   \n",
              "4           1   PAYMENT    11668.14  C2048537720       41554.00   \n",
              "...       ...       ...         ...          ...            ...   \n",
              "6362615   743  CASH_OUT   339682.13   C786484425      339682.13   \n",
              "6362616   743  TRANSFER  6311409.28  C1529008245     6311409.28   \n",
              "6362617   743  CASH_OUT  6311409.28  C1162922333     6311409.28   \n",
              "6362618   743  TRANSFER   850002.52  C1685995037      850002.52   \n",
              "6362619   743  CASH_OUT   850002.52  C1280323807      850002.52   \n",
              "\n",
              "         newbalanceOrig     nameDest  oldbalanceDest  newbalanceDest  isFraud  \\\n",
              "0             160296.36  M1979787155            0.00            0.00        0   \n",
              "1              19384.72  M2044282225            0.00            0.00        0   \n",
              "2                  0.00   C553264065            0.00            0.00        1   \n",
              "3                  0.00    C38997010        21182.00            0.00        1   \n",
              "4              29885.86  M1230701703            0.00            0.00        0   \n",
              "...                 ...          ...             ...             ...      ...   \n",
              "6362615            0.00   C776919290            0.00       339682.13        1   \n",
              "6362616            0.00  C1881841831            0.00            0.00        1   \n",
              "6362617            0.00  C1365125890        68488.84      6379898.11        1   \n",
              "6362618            0.00  C2080388513            0.00            0.00        1   \n",
              "6362619            0.00   C873221189      6510099.11      7360101.63        1   \n",
              "\n",
              "         isFlaggedFraud  \n",
              "0                     0  \n",
              "1                     0  \n",
              "2                     0  \n",
              "3                     0  \n",
              "4                     0  \n",
              "...                 ...  \n",
              "6362615               0  \n",
              "6362616               0  \n",
              "6362617               0  \n",
              "6362618               0  \n",
              "6362619               0  \n",
              "\n",
              "[6362620 rows x 11 columns]"
            ],
            "text/html": [
              "\n",
              "\n",
              "  <div id=\"df-a2459518-8960-4d72-928a-5a4f4d24da34\">\n",
              "    <div class=\"colab-df-container\">\n",
              "      <div>\n",
              "<style scoped>\n",
              "    .dataframe tbody tr th:only-of-type {\n",
              "        vertical-align: middle;\n",
              "    }\n",
              "\n",
              "    .dataframe tbody tr th {\n",
              "        vertical-align: top;\n",
              "    }\n",
              "\n",
              "    .dataframe thead th {\n",
              "        text-align: right;\n",
              "    }\n",
              "</style>\n",
              "<table border=\"1\" class=\"dataframe\">\n",
              "  <thead>\n",
              "    <tr style=\"text-align: right;\">\n",
              "      <th></th>\n",
              "      <th>step</th>\n",
              "      <th>type</th>\n",
              "      <th>amount</th>\n",
              "      <th>nameOrig</th>\n",
              "      <th>oldbalanceOrg</th>\n",
              "      <th>newbalanceOrig</th>\n",
              "      <th>nameDest</th>\n",
              "      <th>oldbalanceDest</th>\n",
              "      <th>newbalanceDest</th>\n",
              "      <th>isFraud</th>\n",
              "      <th>isFlaggedFraud</th>\n",
              "    </tr>\n",
              "  </thead>\n",
              "  <tbody>\n",
              "    <tr>\n",
              "      <th>0</th>\n",
              "      <td>1</td>\n",
              "      <td>PAYMENT</td>\n",
              "      <td>9839.64</td>\n",
              "      <td>C1231006815</td>\n",
              "      <td>170136.00</td>\n",
              "      <td>160296.36</td>\n",
              "      <td>M1979787155</td>\n",
              "      <td>0.00</td>\n",
              "      <td>0.00</td>\n",
              "      <td>0</td>\n",
              "      <td>0</td>\n",
              "    </tr>\n",
              "    <tr>\n",
              "      <th>1</th>\n",
              "      <td>1</td>\n",
              "      <td>PAYMENT</td>\n",
              "      <td>1864.28</td>\n",
              "      <td>C1666544295</td>\n",
              "      <td>21249.00</td>\n",
              "      <td>19384.72</td>\n",
              "      <td>M2044282225</td>\n",
              "      <td>0.00</td>\n",
              "      <td>0.00</td>\n",
              "      <td>0</td>\n",
              "      <td>0</td>\n",
              "    </tr>\n",
              "    <tr>\n",
              "      <th>2</th>\n",
              "      <td>1</td>\n",
              "      <td>TRANSFER</td>\n",
              "      <td>181.00</td>\n",
              "      <td>C1305486145</td>\n",
              "      <td>181.00</td>\n",
              "      <td>0.00</td>\n",
              "      <td>C553264065</td>\n",
              "      <td>0.00</td>\n",
              "      <td>0.00</td>\n",
              "      <td>1</td>\n",
              "      <td>0</td>\n",
              "    </tr>\n",
              "    <tr>\n",
              "      <th>3</th>\n",
              "      <td>1</td>\n",
              "      <td>CASH_OUT</td>\n",
              "      <td>181.00</td>\n",
              "      <td>C840083671</td>\n",
              "      <td>181.00</td>\n",
              "      <td>0.00</td>\n",
              "      <td>C38997010</td>\n",
              "      <td>21182.00</td>\n",
              "      <td>0.00</td>\n",
              "      <td>1</td>\n",
              "      <td>0</td>\n",
              "    </tr>\n",
              "    <tr>\n",
              "      <th>4</th>\n",
              "      <td>1</td>\n",
              "      <td>PAYMENT</td>\n",
              "      <td>11668.14</td>\n",
              "      <td>C2048537720</td>\n",
              "      <td>41554.00</td>\n",
              "      <td>29885.86</td>\n",
              "      <td>M1230701703</td>\n",
              "      <td>0.00</td>\n",
              "      <td>0.00</td>\n",
              "      <td>0</td>\n",
              "      <td>0</td>\n",
              "    </tr>\n",
              "    <tr>\n",
              "      <th>...</th>\n",
              "      <td>...</td>\n",
              "      <td>...</td>\n",
              "      <td>...</td>\n",
              "      <td>...</td>\n",
              "      <td>...</td>\n",
              "      <td>...</td>\n",
              "      <td>...</td>\n",
              "      <td>...</td>\n",
              "      <td>...</td>\n",
              "      <td>...</td>\n",
              "      <td>...</td>\n",
              "    </tr>\n",
              "    <tr>\n",
              "      <th>6362615</th>\n",
              "      <td>743</td>\n",
              "      <td>CASH_OUT</td>\n",
              "      <td>339682.13</td>\n",
              "      <td>C786484425</td>\n",
              "      <td>339682.13</td>\n",
              "      <td>0.00</td>\n",
              "      <td>C776919290</td>\n",
              "      <td>0.00</td>\n",
              "      <td>339682.13</td>\n",
              "      <td>1</td>\n",
              "      <td>0</td>\n",
              "    </tr>\n",
              "    <tr>\n",
              "      <th>6362616</th>\n",
              "      <td>743</td>\n",
              "      <td>TRANSFER</td>\n",
              "      <td>6311409.28</td>\n",
              "      <td>C1529008245</td>\n",
              "      <td>6311409.28</td>\n",
              "      <td>0.00</td>\n",
              "      <td>C1881841831</td>\n",
              "      <td>0.00</td>\n",
              "      <td>0.00</td>\n",
              "      <td>1</td>\n",
              "      <td>0</td>\n",
              "    </tr>\n",
              "    <tr>\n",
              "      <th>6362617</th>\n",
              "      <td>743</td>\n",
              "      <td>CASH_OUT</td>\n",
              "      <td>6311409.28</td>\n",
              "      <td>C1162922333</td>\n",
              "      <td>6311409.28</td>\n",
              "      <td>0.00</td>\n",
              "      <td>C1365125890</td>\n",
              "      <td>68488.84</td>\n",
              "      <td>6379898.11</td>\n",
              "      <td>1</td>\n",
              "      <td>0</td>\n",
              "    </tr>\n",
              "    <tr>\n",
              "      <th>6362618</th>\n",
              "      <td>743</td>\n",
              "      <td>TRANSFER</td>\n",
              "      <td>850002.52</td>\n",
              "      <td>C1685995037</td>\n",
              "      <td>850002.52</td>\n",
              "      <td>0.00</td>\n",
              "      <td>C2080388513</td>\n",
              "      <td>0.00</td>\n",
              "      <td>0.00</td>\n",
              "      <td>1</td>\n",
              "      <td>0</td>\n",
              "    </tr>\n",
              "    <tr>\n",
              "      <th>6362619</th>\n",
              "      <td>743</td>\n",
              "      <td>CASH_OUT</td>\n",
              "      <td>850002.52</td>\n",
              "      <td>C1280323807</td>\n",
              "      <td>850002.52</td>\n",
              "      <td>0.00</td>\n",
              "      <td>C873221189</td>\n",
              "      <td>6510099.11</td>\n",
              "      <td>7360101.63</td>\n",
              "      <td>1</td>\n",
              "      <td>0</td>\n",
              "    </tr>\n",
              "  </tbody>\n",
              "</table>\n",
              "<p>6362620 rows × 11 columns</p>\n",
              "</div>\n",
              "      <button class=\"colab-df-convert\" onclick=\"convertToInteractive('df-a2459518-8960-4d72-928a-5a4f4d24da34')\"\n",
              "              title=\"Convert this dataframe to an interactive table.\"\n",
              "              style=\"display:none;\">\n",
              "\n",
              "  <svg xmlns=\"http://www.w3.org/2000/svg\" height=\"24px\"viewBox=\"0 0 24 24\"\n",
              "       width=\"24px\">\n",
              "    <path d=\"M0 0h24v24H0V0z\" fill=\"none\"/>\n",
              "    <path d=\"M18.56 5.44l.94 2.06.94-2.06 2.06-.94-2.06-.94-.94-2.06-.94 2.06-2.06.94zm-11 1L8.5 8.5l.94-2.06 2.06-.94-2.06-.94L8.5 2.5l-.94 2.06-2.06.94zm10 10l.94 2.06.94-2.06 2.06-.94-2.06-.94-.94-2.06-.94 2.06-2.06.94z\"/><path d=\"M17.41 7.96l-1.37-1.37c-.4-.4-.92-.59-1.43-.59-.52 0-1.04.2-1.43.59L10.3 9.45l-7.72 7.72c-.78.78-.78 2.05 0 2.83L4 21.41c.39.39.9.59 1.41.59.51 0 1.02-.2 1.41-.59l7.78-7.78 2.81-2.81c.8-.78.8-2.07 0-2.86zM5.41 20L4 18.59l7.72-7.72 1.47 1.35L5.41 20z\"/>\n",
              "  </svg>\n",
              "      </button>\n",
              "\n",
              "\n",
              "\n",
              "    <div id=\"df-85c0fc72-2118-4618-bde8-738f1e2bf124\">\n",
              "      <button class=\"colab-df-quickchart\" onclick=\"quickchart('df-85c0fc72-2118-4618-bde8-738f1e2bf124')\"\n",
              "              title=\"Suggest charts.\"\n",
              "              style=\"display:none;\">\n",
              "\n",
              "<svg xmlns=\"http://www.w3.org/2000/svg\" height=\"24px\"viewBox=\"0 0 24 24\"\n",
              "     width=\"24px\">\n",
              "    <g>\n",
              "        <path d=\"M19 3H5c-1.1 0-2 .9-2 2v14c0 1.1.9 2 2 2h14c1.1 0 2-.9 2-2V5c0-1.1-.9-2-2-2zM9 17H7v-7h2v7zm4 0h-2V7h2v10zm4 0h-2v-4h2v4z\"/>\n",
              "    </g>\n",
              "</svg>\n",
              "      </button>\n",
              "    </div>\n",
              "\n",
              "<style>\n",
              "  .colab-df-quickchart {\n",
              "    background-color: #E8F0FE;\n",
              "    border: none;\n",
              "    border-radius: 50%;\n",
              "    cursor: pointer;\n",
              "    display: none;\n",
              "    fill: #1967D2;\n",
              "    height: 32px;\n",
              "    padding: 0 0 0 0;\n",
              "    width: 32px;\n",
              "  }\n",
              "\n",
              "  .colab-df-quickchart:hover {\n",
              "    background-color: #E2EBFA;\n",
              "    box-shadow: 0px 1px 2px rgba(60, 64, 67, 0.3), 0px 1px 3px 1px rgba(60, 64, 67, 0.15);\n",
              "    fill: #174EA6;\n",
              "  }\n",
              "\n",
              "  [theme=dark] .colab-df-quickchart {\n",
              "    background-color: #3B4455;\n",
              "    fill: #D2E3FC;\n",
              "  }\n",
              "\n",
              "  [theme=dark] .colab-df-quickchart:hover {\n",
              "    background-color: #434B5C;\n",
              "    box-shadow: 0px 1px 3px 1px rgba(0, 0, 0, 0.15);\n",
              "    filter: drop-shadow(0px 1px 2px rgba(0, 0, 0, 0.3));\n",
              "    fill: #FFFFFF;\n",
              "  }\n",
              "</style>\n",
              "\n",
              "    <script>\n",
              "      async function quickchart(key) {\n",
              "        const containerElement = document.querySelector('#' + key);\n",
              "        const charts = await google.colab.kernel.invokeFunction(\n",
              "            'suggestCharts', [key], {});\n",
              "      }\n",
              "    </script>\n",
              "\n",
              "      <script>\n",
              "\n",
              "function displayQuickchartButton(domScope) {\n",
              "  let quickchartButtonEl =\n",
              "    domScope.querySelector('#df-85c0fc72-2118-4618-bde8-738f1e2bf124 button.colab-df-quickchart');\n",
              "  quickchartButtonEl.style.display =\n",
              "    google.colab.kernel.accessAllowed ? 'block' : 'none';\n",
              "}\n",
              "\n",
              "        displayQuickchartButton(document);\n",
              "      </script>\n",
              "      <style>\n",
              "    .colab-df-container {\n",
              "      display:flex;\n",
              "      flex-wrap:wrap;\n",
              "      gap: 12px;\n",
              "    }\n",
              "\n",
              "    .colab-df-convert {\n",
              "      background-color: #E8F0FE;\n",
              "      border: none;\n",
              "      border-radius: 50%;\n",
              "      cursor: pointer;\n",
              "      display: none;\n",
              "      fill: #1967D2;\n",
              "      height: 32px;\n",
              "      padding: 0 0 0 0;\n",
              "      width: 32px;\n",
              "    }\n",
              "\n",
              "    .colab-df-convert:hover {\n",
              "      background-color: #E2EBFA;\n",
              "      box-shadow: 0px 1px 2px rgba(60, 64, 67, 0.3), 0px 1px 3px 1px rgba(60, 64, 67, 0.15);\n",
              "      fill: #174EA6;\n",
              "    }\n",
              "\n",
              "    [theme=dark] .colab-df-convert {\n",
              "      background-color: #3B4455;\n",
              "      fill: #D2E3FC;\n",
              "    }\n",
              "\n",
              "    [theme=dark] .colab-df-convert:hover {\n",
              "      background-color: #434B5C;\n",
              "      box-shadow: 0px 1px 3px 1px rgba(0, 0, 0, 0.15);\n",
              "      filter: drop-shadow(0px 1px 2px rgba(0, 0, 0, 0.3));\n",
              "      fill: #FFFFFF;\n",
              "    }\n",
              "  </style>\n",
              "\n",
              "      <script>\n",
              "        const buttonEl =\n",
              "          document.querySelector('#df-a2459518-8960-4d72-928a-5a4f4d24da34 button.colab-df-convert');\n",
              "        buttonEl.style.display =\n",
              "          google.colab.kernel.accessAllowed ? 'block' : 'none';\n",
              "\n",
              "        async function convertToInteractive(key) {\n",
              "          const element = document.querySelector('#df-a2459518-8960-4d72-928a-5a4f4d24da34');\n",
              "          const dataTable =\n",
              "            await google.colab.kernel.invokeFunction('convertToInteractive',\n",
              "                                                     [key], {});\n",
              "          if (!dataTable) return;\n",
              "\n",
              "          const docLinkHtml = 'Like what you see? Visit the ' +\n",
              "            '<a target=\"_blank\" href=https://colab.research.google.com/notebooks/data_table.ipynb>data table notebook</a>'\n",
              "            + ' to learn more about interactive tables.';\n",
              "          element.innerHTML = '';\n",
              "          dataTable['output_type'] = 'display_data';\n",
              "          await google.colab.output.renderOutput(dataTable, element);\n",
              "          const docLink = document.createElement('div');\n",
              "          docLink.innerHTML = docLinkHtml;\n",
              "          element.appendChild(docLink);\n",
              "        }\n",
              "      </script>\n",
              "    </div>\n",
              "  </div>\n"
            ]
          },
          "metadata": {},
          "execution_count": 6
        }
      ]
    },
    {
      "cell_type": "code",
      "source": [
        "# Display information about the DataFrame 'df'\n",
        "df.info()"
      ],
      "metadata": {
        "colab": {
          "base_uri": "https://localhost:8080/"
        },
        "id": "34c8C8uJ3EGC",
        "outputId": "5287ed32-c3e3-4157-86d4-b955100c46af"
      },
      "execution_count": null,
      "outputs": [
        {
          "output_type": "stream",
          "name": "stdout",
          "text": [
            "<class 'pandas.core.frame.DataFrame'>\n",
            "RangeIndex: 6362620 entries, 0 to 6362619\n",
            "Data columns (total 11 columns):\n",
            " #   Column          Dtype  \n",
            "---  ------          -----  \n",
            " 0   step            int64  \n",
            " 1   type            object \n",
            " 2   amount          float64\n",
            " 3   nameOrig        object \n",
            " 4   oldbalanceOrg   float64\n",
            " 5   newbalanceOrig  float64\n",
            " 6   nameDest        object \n",
            " 7   oldbalanceDest  float64\n",
            " 8   newbalanceDest  float64\n",
            " 9   isFraud         int64  \n",
            " 10  isFlaggedFraud  int64  \n",
            "dtypes: float64(5), int64(3), object(3)\n",
            "memory usage: 534.0+ MB\n"
          ]
        }
      ]
    },
    {
      "cell_type": "code",
      "source": [
        "# Identify duplicated rows in the DataFrame 'df'\n",
        "duplicate_rows_data = df[df.duplicated()]\n",
        "\n",
        "# Print the number of duplicated rows\n",
        "print(\"Number of duplicated rows:\", duplicate_rows_data.shape[0])\n"
      ],
      "metadata": {
        "colab": {
          "base_uri": "https://localhost:8080/"
        },
        "id": "9lmbfH113Q8s",
        "outputId": "8590a920-8b48-403e-b446-1c61134e7309"
      },
      "execution_count": null,
      "outputs": [
        {
          "output_type": "stream",
          "name": "stdout",
          "text": [
            "Number of duplicated rows: 0\n"
          ]
        }
      ]
    },
    {
      "cell_type": "code",
      "source": [
        "# Iterate through each column in the DataFrame 'df'\n",
        "for column in df.columns:\n",
        "    # Calculate the number of distinct values in the current column\n",
        "    num_distinct_values = len(df[column].unique())\n",
        "    # Print the column name and the number of distinct values\n",
        "    print(f\"{column}: {num_distinct_values} distinct values\")\n"
      ],
      "metadata": {
        "colab": {
          "base_uri": "https://localhost:8080/"
        },
        "id": "0YBv6GPp3qkO",
        "outputId": "387c8cee-4d8a-4b46-cdfb-26935718b031"
      },
      "execution_count": null,
      "outputs": [
        {
          "output_type": "stream",
          "name": "stdout",
          "text": [
            "step: 743 distinct values\n",
            "type: 5 distinct values\n",
            "amount: 5316900 distinct values\n",
            "nameOrig: 6353307 distinct values\n",
            "oldbalanceOrg: 1845844 distinct values\n",
            "newbalanceOrig: 2682586 distinct values\n",
            "nameDest: 2722362 distinct values\n",
            "oldbalanceDest: 3614697 distinct values\n",
            "newbalanceDest: 3555499 distinct values\n",
            "isFraud: 2 distinct values\n",
            "isFlaggedFraud: 2 distinct values\n"
          ]
        }
      ]
    },
    {
      "cell_type": "code",
      "source": [
        "# Display the count of missing values for each column in the DataFrame 'df'\n",
        "print(df.isnull().sum())"
      ],
      "metadata": {
        "colab": {
          "base_uri": "https://localhost:8080/"
        },
        "id": "S96GV_Yd3vjl",
        "outputId": "c9e74e5c-8b3f-4357-8ac6-e40fe84a842e"
      },
      "execution_count": null,
      "outputs": [
        {
          "output_type": "stream",
          "name": "stdout",
          "text": [
            "step              0\n",
            "type              0\n",
            "amount            0\n",
            "nameOrig          0\n",
            "oldbalanceOrg     0\n",
            "newbalanceOrig    0\n",
            "nameDest          0\n",
            "oldbalanceDest    0\n",
            "newbalanceDest    0\n",
            "isFraud           0\n",
            "isFlaggedFraud    0\n",
            "dtype: int64\n"
          ]
        }
      ]
    },
    {
      "cell_type": "code",
      "source": [
        "# Display formatted descriptive statistical summary of the DataFrame 'df'\n",
        "df.describe().style.format('{:.2f}')"
      ],
      "metadata": {
        "colab": {
          "base_uri": "https://localhost:8080/"
        },
        "id": "piD869UT5dwC",
        "outputId": "8706c228-64f4-453d-9222-e3a8c26a8c0a"
      },
      "execution_count": null,
      "outputs": [
        {
          "output_type": "execute_result",
          "data": {
            "text/plain": [
              "<pandas.io.formats.style.Styler at 0x7acd310e9030>"
            ],
            "text/html": [
              "<style type=\"text/css\">\n",
              "</style>\n",
              "<table id=\"T_b3ce9\" class=\"dataframe\">\n",
              "  <thead>\n",
              "    <tr>\n",
              "      <th class=\"blank level0\" >&nbsp;</th>\n",
              "      <th id=\"T_b3ce9_level0_col0\" class=\"col_heading level0 col0\" >step</th>\n",
              "      <th id=\"T_b3ce9_level0_col1\" class=\"col_heading level0 col1\" >amount</th>\n",
              "      <th id=\"T_b3ce9_level0_col2\" class=\"col_heading level0 col2\" >oldbalanceOrg</th>\n",
              "      <th id=\"T_b3ce9_level0_col3\" class=\"col_heading level0 col3\" >newbalanceOrig</th>\n",
              "      <th id=\"T_b3ce9_level0_col4\" class=\"col_heading level0 col4\" >oldbalanceDest</th>\n",
              "      <th id=\"T_b3ce9_level0_col5\" class=\"col_heading level0 col5\" >newbalanceDest</th>\n",
              "      <th id=\"T_b3ce9_level0_col6\" class=\"col_heading level0 col6\" >isFraud</th>\n",
              "      <th id=\"T_b3ce9_level0_col7\" class=\"col_heading level0 col7\" >isFlaggedFraud</th>\n",
              "    </tr>\n",
              "  </thead>\n",
              "  <tbody>\n",
              "    <tr>\n",
              "      <th id=\"T_b3ce9_level0_row0\" class=\"row_heading level0 row0\" >count</th>\n",
              "      <td id=\"T_b3ce9_row0_col0\" class=\"data row0 col0\" >6362620.00</td>\n",
              "      <td id=\"T_b3ce9_row0_col1\" class=\"data row0 col1\" >6362620.00</td>\n",
              "      <td id=\"T_b3ce9_row0_col2\" class=\"data row0 col2\" >6362620.00</td>\n",
              "      <td id=\"T_b3ce9_row0_col3\" class=\"data row0 col3\" >6362620.00</td>\n",
              "      <td id=\"T_b3ce9_row0_col4\" class=\"data row0 col4\" >6362620.00</td>\n",
              "      <td id=\"T_b3ce9_row0_col5\" class=\"data row0 col5\" >6362620.00</td>\n",
              "      <td id=\"T_b3ce9_row0_col6\" class=\"data row0 col6\" >6362620.00</td>\n",
              "      <td id=\"T_b3ce9_row0_col7\" class=\"data row0 col7\" >6362620.00</td>\n",
              "    </tr>\n",
              "    <tr>\n",
              "      <th id=\"T_b3ce9_level0_row1\" class=\"row_heading level0 row1\" >mean</th>\n",
              "      <td id=\"T_b3ce9_row1_col0\" class=\"data row1 col0\" >243.40</td>\n",
              "      <td id=\"T_b3ce9_row1_col1\" class=\"data row1 col1\" >179861.90</td>\n",
              "      <td id=\"T_b3ce9_row1_col2\" class=\"data row1 col2\" >833883.10</td>\n",
              "      <td id=\"T_b3ce9_row1_col3\" class=\"data row1 col3\" >855113.67</td>\n",
              "      <td id=\"T_b3ce9_row1_col4\" class=\"data row1 col4\" >1100701.67</td>\n",
              "      <td id=\"T_b3ce9_row1_col5\" class=\"data row1 col5\" >1224996.40</td>\n",
              "      <td id=\"T_b3ce9_row1_col6\" class=\"data row1 col6\" >0.00</td>\n",
              "      <td id=\"T_b3ce9_row1_col7\" class=\"data row1 col7\" >0.00</td>\n",
              "    </tr>\n",
              "    <tr>\n",
              "      <th id=\"T_b3ce9_level0_row2\" class=\"row_heading level0 row2\" >std</th>\n",
              "      <td id=\"T_b3ce9_row2_col0\" class=\"data row2 col0\" >142.33</td>\n",
              "      <td id=\"T_b3ce9_row2_col1\" class=\"data row2 col1\" >603858.23</td>\n",
              "      <td id=\"T_b3ce9_row2_col2\" class=\"data row2 col2\" >2888242.67</td>\n",
              "      <td id=\"T_b3ce9_row2_col3\" class=\"data row2 col3\" >2924048.50</td>\n",
              "      <td id=\"T_b3ce9_row2_col4\" class=\"data row2 col4\" >3399180.11</td>\n",
              "      <td id=\"T_b3ce9_row2_col5\" class=\"data row2 col5\" >3674128.94</td>\n",
              "      <td id=\"T_b3ce9_row2_col6\" class=\"data row2 col6\" >0.04</td>\n",
              "      <td id=\"T_b3ce9_row2_col7\" class=\"data row2 col7\" >0.00</td>\n",
              "    </tr>\n",
              "    <tr>\n",
              "      <th id=\"T_b3ce9_level0_row3\" class=\"row_heading level0 row3\" >min</th>\n",
              "      <td id=\"T_b3ce9_row3_col0\" class=\"data row3 col0\" >1.00</td>\n",
              "      <td id=\"T_b3ce9_row3_col1\" class=\"data row3 col1\" >0.00</td>\n",
              "      <td id=\"T_b3ce9_row3_col2\" class=\"data row3 col2\" >0.00</td>\n",
              "      <td id=\"T_b3ce9_row3_col3\" class=\"data row3 col3\" >0.00</td>\n",
              "      <td id=\"T_b3ce9_row3_col4\" class=\"data row3 col4\" >0.00</td>\n",
              "      <td id=\"T_b3ce9_row3_col5\" class=\"data row3 col5\" >0.00</td>\n",
              "      <td id=\"T_b3ce9_row3_col6\" class=\"data row3 col6\" >0.00</td>\n",
              "      <td id=\"T_b3ce9_row3_col7\" class=\"data row3 col7\" >0.00</td>\n",
              "    </tr>\n",
              "    <tr>\n",
              "      <th id=\"T_b3ce9_level0_row4\" class=\"row_heading level0 row4\" >25%</th>\n",
              "      <td id=\"T_b3ce9_row4_col0\" class=\"data row4 col0\" >156.00</td>\n",
              "      <td id=\"T_b3ce9_row4_col1\" class=\"data row4 col1\" >13389.57</td>\n",
              "      <td id=\"T_b3ce9_row4_col2\" class=\"data row4 col2\" >0.00</td>\n",
              "      <td id=\"T_b3ce9_row4_col3\" class=\"data row4 col3\" >0.00</td>\n",
              "      <td id=\"T_b3ce9_row4_col4\" class=\"data row4 col4\" >0.00</td>\n",
              "      <td id=\"T_b3ce9_row4_col5\" class=\"data row4 col5\" >0.00</td>\n",
              "      <td id=\"T_b3ce9_row4_col6\" class=\"data row4 col6\" >0.00</td>\n",
              "      <td id=\"T_b3ce9_row4_col7\" class=\"data row4 col7\" >0.00</td>\n",
              "    </tr>\n",
              "    <tr>\n",
              "      <th id=\"T_b3ce9_level0_row5\" class=\"row_heading level0 row5\" >50%</th>\n",
              "      <td id=\"T_b3ce9_row5_col0\" class=\"data row5 col0\" >239.00</td>\n",
              "      <td id=\"T_b3ce9_row5_col1\" class=\"data row5 col1\" >74871.94</td>\n",
              "      <td id=\"T_b3ce9_row5_col2\" class=\"data row5 col2\" >14208.00</td>\n",
              "      <td id=\"T_b3ce9_row5_col3\" class=\"data row5 col3\" >0.00</td>\n",
              "      <td id=\"T_b3ce9_row5_col4\" class=\"data row5 col4\" >132705.66</td>\n",
              "      <td id=\"T_b3ce9_row5_col5\" class=\"data row5 col5\" >214661.44</td>\n",
              "      <td id=\"T_b3ce9_row5_col6\" class=\"data row5 col6\" >0.00</td>\n",
              "      <td id=\"T_b3ce9_row5_col7\" class=\"data row5 col7\" >0.00</td>\n",
              "    </tr>\n",
              "    <tr>\n",
              "      <th id=\"T_b3ce9_level0_row6\" class=\"row_heading level0 row6\" >75%</th>\n",
              "      <td id=\"T_b3ce9_row6_col0\" class=\"data row6 col0\" >335.00</td>\n",
              "      <td id=\"T_b3ce9_row6_col1\" class=\"data row6 col1\" >208721.48</td>\n",
              "      <td id=\"T_b3ce9_row6_col2\" class=\"data row6 col2\" >107315.18</td>\n",
              "      <td id=\"T_b3ce9_row6_col3\" class=\"data row6 col3\" >144258.41</td>\n",
              "      <td id=\"T_b3ce9_row6_col4\" class=\"data row6 col4\" >943036.71</td>\n",
              "      <td id=\"T_b3ce9_row6_col5\" class=\"data row6 col5\" >1111909.25</td>\n",
              "      <td id=\"T_b3ce9_row6_col6\" class=\"data row6 col6\" >0.00</td>\n",
              "      <td id=\"T_b3ce9_row6_col7\" class=\"data row6 col7\" >0.00</td>\n",
              "    </tr>\n",
              "    <tr>\n",
              "      <th id=\"T_b3ce9_level0_row7\" class=\"row_heading level0 row7\" >max</th>\n",
              "      <td id=\"T_b3ce9_row7_col0\" class=\"data row7 col0\" >743.00</td>\n",
              "      <td id=\"T_b3ce9_row7_col1\" class=\"data row7 col1\" >92445516.64</td>\n",
              "      <td id=\"T_b3ce9_row7_col2\" class=\"data row7 col2\" >59585040.37</td>\n",
              "      <td id=\"T_b3ce9_row7_col3\" class=\"data row7 col3\" >49585040.37</td>\n",
              "      <td id=\"T_b3ce9_row7_col4\" class=\"data row7 col4\" >356015889.35</td>\n",
              "      <td id=\"T_b3ce9_row7_col5\" class=\"data row7 col5\" >356179278.92</td>\n",
              "      <td id=\"T_b3ce9_row7_col6\" class=\"data row7 col6\" >1.00</td>\n",
              "      <td id=\"T_b3ce9_row7_col7\" class=\"data row7 col7\" >1.00</td>\n",
              "    </tr>\n",
              "  </tbody>\n",
              "</table>\n"
            ]
          },
          "metadata": {},
          "execution_count": 11
        }
      ]
    },
    {
      "cell_type": "markdown",
      "source": [
        "## Data Visualization\n",
        "In this section, we explore the data visually using various plots and charts to gain insights into the underlying patterns and distributions within the dataset."
      ],
      "metadata": {
        "id": "xINVi7yoKcJE"
      }
    },
    {
      "cell_type": "code",
      "source": [
        "plt.hist(df['step'], edgecolor='black')\n",
        "plt.title('Step Distribution')\n",
        "plt.xlabel('Step')\n",
        "plt.ylabel('Count')\n",
        "plt.show()"
      ],
      "metadata": {
        "colab": {
          "base_uri": "https://localhost:8080/"
        },
        "id": "QdG4cDyo5_CH",
        "outputId": "dc0994dc-2c08-4c18-de7d-ae8a73ce4462"
      },
      "execution_count": null,
      "outputs": [
        {
          "output_type": "display_data",
          "data": {
            "text/plain": [
              "<Figure size 640x480 with 1 Axes>"
            ],
            "image/png": "[encoded data removed]"
          },
          "metadata": {}
        }
      ]
    },
    {
      "cell_type": "code",
      "source": [
        "sns.countplot(x='step', hue='isFraud', data=df)\n",
        "plt.title(\"Gender vs Fraud\")\n",
        "plt.show()"
      ],
      "metadata": {
        "colab": {
          "base_uri": "https://localhost:8080/"
        },
        "id": "uJafHrlu7kW1",
        "outputId": "37c7284d-79b4-4b85-da5c-229e86afdfb5"
      },
      "execution_count": null,
      "outputs": [
        {
          "output_type": "display_data",
          "data": {
            "text/plain": [
              "<Figure size 640x480 with 1 Axes>"
            ],
            "image/png": "[encoded data removed]"
          },
          "metadata": {}
        }
      ]
    },
    {
      "cell_type": "code",
      "source": [
        "df.head()"
      ],
      "metadata": {
        "colab": {
          "base_uri": "https://localhost:8080/"
        },
        "id": "ShJVED08_uqG",
        "outputId": "7cf7e6dc-c457-4ce2-9d1e-42848cb094f5"
      },
      "execution_count": null,
      "outputs": [
        {
          "output_type": "execute_result",
          "data": {
            "text/plain": [
              "   step      type    amount     nameOrig  oldbalanceOrg  newbalanceOrig  \\\n",
              "0     1   PAYMENT   9839.64  C1231006815       170136.0       160296.36   \n",
              "1     1   PAYMENT   1864.28  C1666544295        21249.0        19384.72   \n",
              "2     1  TRANSFER    181.00  C1305486145          181.0            0.00   \n",
              "3     1  CASH_OUT    181.00   C840083671          181.0            0.00   \n",
              "4     1   PAYMENT  11668.14  C2048537720        41554.0        29885.86   \n",
              "\n",
              "      nameDest  oldbalanceDest  newbalanceDest  isFraud  isFlaggedFraud  \n",
              "0  M1979787155             0.0             0.0        0               0  \n",
              "1  M2044282225             0.0             0.0        0               0  \n",
              "2   C553264065             0.0             0.0        1               0  \n",
              "3    C38997010         21182.0             0.0        1               0  \n",
              "4  M1230701703             0.0             0.0        0               0  "
            ],
            "text/html": [
              "\n",
              "\n",
              "  <div id=\"df-445400ad-963e-4a9f-aa86-8d2e80b33b6e\">\n",
              "    <div class=\"colab-df-container\">\n",
              "      <div>\n",
              "<style scoped>\n",
              "    .dataframe tbody tr th:only-of-type {\n",
              "        vertical-align: middle;\n",
              "    }\n",
              "\n",
              "    .dataframe tbody tr th {\n",
              "        vertical-align: top;\n",
              "    }\n",
              "\n",
              "    .dataframe thead th {\n",
              "        text-align: right;\n",
              "    }\n",
              "</style>\n",
              "<table border=\"1\" class=\"dataframe\">\n",
              "  <thead>\n",
              "    <tr style=\"text-align: right;\">\n",
              "      <th></th>\n",
              "      <th>step</th>\n",
              "      <th>type</th>\n",
              "      <th>amount</th>\n",
              "      <th>nameOrig</th>\n",
              "      <th>oldbalanceOrg</th>\n",
              "      <th>newbalanceOrig</th>\n",
              "      <th>nameDest</th>\n",
              "      <th>oldbalanceDest</th>\n",
              "      <th>newbalanceDest</th>\n",
              "      <th>isFraud</th>\n",
              "      <th>isFlaggedFraud</th>\n",
              "    </tr>\n",
              "  </thead>\n",
              "  <tbody>\n",
              "    <tr>\n",
              "      <th>0</th>\n",
              "      <td>1</td>\n",
              "      <td>PAYMENT</td>\n",
              "      <td>9839.64</td>\n",
              "      <td>C1231006815</td>\n",
              "      <td>170136.0</td>\n",
              "      <td>160296.36</td>\n",
              "      <td>M1979787155</td>\n",
              "      <td>0.0</td>\n",
              "      <td>0.0</td>\n",
              "      <td>0</td>\n",
              "      <td>0</td>\n",
              "    </tr>\n",
              "    <tr>\n",
              "      <th>1</th>\n",
              "      <td>1</td>\n",
              "      <td>PAYMENT</td>\n",
              "      <td>1864.28</td>\n",
              "      <td>C1666544295</td>\n",
              "      <td>21249.0</td>\n",
              "      <td>19384.72</td>\n",
              "      <td>M2044282225</td>\n",
              "      <td>0.0</td>\n",
              "      <td>0.0</td>\n",
              "      <td>0</td>\n",
              "      <td>0</td>\n",
              "    </tr>\n",
              "    <tr>\n",
              "      <th>2</th>\n",
              "      <td>1</td>\n",
              "      <td>TRANSFER</td>\n",
              "      <td>181.00</td>\n",
              "      <td>C1305486145</td>\n",
              "      <td>181.0</td>\n",
              "      <td>0.00</td>\n",
              "      <td>C553264065</td>\n",
              "      <td>0.0</td>\n",
              "      <td>0.0</td>\n",
              "      <td>1</td>\n",
              "      <td>0</td>\n",
              "    </tr>\n",
              "    <tr>\n",
              "      <th>3</th>\n",
              "      <td>1</td>\n",
              "      <td>CASH_OUT</td>\n",
              "      <td>181.00</td>\n",
              "      <td>C840083671</td>\n",
              "      <td>181.0</td>\n",
              "      <td>0.00</td>\n",
              "      <td>C38997010</td>\n",
              "      <td>21182.0</td>\n",
              "      <td>0.0</td>\n",
              "      <td>1</td>\n",
              "      <td>0</td>\n",
              "    </tr>\n",
              "    <tr>\n",
              "      <th>4</th>\n",
              "      <td>1</td>\n",
              "      <td>PAYMENT</td>\n",
              "      <td>11668.14</td>\n",
              "      <td>C2048537720</td>\n",
              "      <td>41554.0</td>\n",
              "      <td>29885.86</td>\n",
              "      <td>M1230701703</td>\n",
              "      <td>0.0</td>\n",
              "      <td>0.0</td>\n",
              "      <td>0</td>\n",
              "      <td>0</td>\n",
              "    </tr>\n",
              "  </tbody>\n",
              "</table>\n",
              "</div>\n",
              "      <button class=\"colab-df-convert\" onclick=\"convertToInteractive('df-445400ad-963e-4a9f-aa86-8d2e80b33b6e')\"\n",
              "              title=\"Convert this dataframe to an interactive table.\"\n",
              "              style=\"display:none;\">\n",
              "\n",
              "  <svg xmlns=\"http://www.w3.org/2000/svg\" height=\"24px\"viewBox=\"0 0 24 24\"\n",
              "       width=\"24px\">\n",
              "    <path d=\"M0 0h24v24H0V0z\" fill=\"none\"/>\n",
              "    <path d=\"M18.56 5.44l.94 2.06.94-2.06 2.06-.94-2.06-.94-.94-2.06-.94 2.06-2.06.94zm-11 1L8.5 8.5l.94-2.06 2.06-.94-2.06-.94L8.5 2.5l-.94 2.06-2.06.94zm10 10l.94 2.06.94-2.06 2.06-.94-2.06-.94-.94-2.06-.94 2.06-2.06.94z\"/><path d=\"M17.41 7.96l-1.37-1.37c-.4-.4-.92-.59-1.43-.59-.52 0-1.04.2-1.43.59L10.3 9.45l-7.72 7.72c-.78.78-.78 2.05 0 2.83L4 21.41c.39.39.9.59 1.41.59.51 0 1.02-.2 1.41-.59l7.78-7.78 2.81-2.81c.8-.78.8-2.07 0-2.86zM5.41 20L4 18.59l7.72-7.72 1.47 1.35L5.41 20z\"/>\n",
              "  </svg>\n",
              "      </button>\n",
              "\n",
              "\n",
              "\n",
              "    <div id=\"df-a232b86b-a858-4b63-a8cb-d27e7d960f0d\">\n",
              "      <button class=\"colab-df-quickchart\" onclick=\"quickchart('df-a232b86b-a858-4b63-a8cb-d27e7d960f0d')\"\n",
              "              title=\"Suggest charts.\"\n",
              "              style=\"display:none;\">\n",
              "\n",
              "<svg xmlns=\"http://www.w3.org/2000/svg\" height=\"24px\"viewBox=\"0 0 24 24\"\n",
              "     width=\"24px\">\n",
              "    <g>\n",
              "        <path d=\"M19 3H5c-1.1 0-2 .9-2 2v14c0 1.1.9 2 2 2h14c1.1 0 2-.9 2-2V5c0-1.1-.9-2-2-2zM9 17H7v-7h2v7zm4 0h-2V7h2v10zm4 0h-2v-4h2v4z\"/>\n",
              "    </g>\n",
              "</svg>\n",
              "      </button>\n",
              "    </div>\n",
              "\n",
              "<style>\n",
              "  .colab-df-quickchart {\n",
              "    background-color: #E8F0FE;\n",
              "    border: none;\n",
              "    border-radius: 50%;\n",
              "    cursor: pointer;\n",
              "    display: none;\n",
              "    fill: #1967D2;\n",
              "    height: 32px;\n",
              "    padding: 0 0 0 0;\n",
              "    width: 32px;\n",
              "  }\n",
              "\n",
              "  .colab-df-quickchart:hover {\n",
              "    background-color: #E2EBFA;\n",
              "    box-shadow: 0px 1px 2px rgba(60, 64, 67, 0.3), 0px 1px 3px 1px rgba(60, 64, 67, 0.15);\n",
              "    fill: #174EA6;\n",
              "  }\n",
              "\n",
              "  [theme=dark] .colab-df-quickchart {\n",
              "    background-color: #3B4455;\n",
              "    fill: #D2E3FC;\n",
              "  }\n",
              "\n",
              "  [theme=dark] .colab-df-quickchart:hover {\n",
              "    background-color: #434B5C;\n",
              "    box-shadow: 0px 1px 3px 1px rgba(0, 0, 0, 0.15);\n",
              "    filter: drop-shadow(0px 1px 2px rgba(0, 0, 0, 0.3));\n",
              "    fill: #FFFFFF;\n",
              "  }\n",
              "</style>\n",
              "\n",
              "    <script>\n",
              "      async function quickchart(key) {\n",
              "        const containerElement = document.querySelector('#' + key);\n",
              "        const charts = await google.colab.kernel.invokeFunction(\n",
              "            'suggestCharts', [key], {});\n",
              "      }\n",
              "    </script>\n",
              "\n",
              "      <script>\n",
              "\n",
              "function displayQuickchartButton(domScope) {\n",
              "  let quickchartButtonEl =\n",
              "    domScope.querySelector('#df-a232b86b-a858-4b63-a8cb-d27e7d960f0d button.colab-df-quickchart');\n",
              "  quickchartButtonEl.style.display =\n",
              "    google.colab.kernel.accessAllowed ? 'block' : 'none';\n",
              "}\n",
              "\n",
              "        displayQuickchartButton(document);\n",
              "      </script>\n",
              "      <style>\n",
              "    .colab-df-container {\n",
              "      display:flex;\n",
              "      flex-wrap:wrap;\n",
              "      gap: 12px;\n",
              "    }\n",
              "\n",
              "    .colab-df-convert {\n",
              "      background-color: #E8F0FE;\n",
              "      border: none;\n",
              "      border-radius: 50%;\n",
              "      cursor: pointer;\n",
              "      display: none;\n",
              "      fill: #1967D2;\n",
              "      height: 32px;\n",
              "      padding: 0 0 0 0;\n",
              "      width: 32px;\n",
              "    }\n",
              "\n",
              "    .colab-df-convert:hover {\n",
              "      background-color: #E2EBFA;\n",
              "      box-shadow: 0px 1px 2px rgba(60, 64, 67, 0.3), 0px 1px 3px 1px rgba(60, 64, 67, 0.15);\n",
              "      fill: #174EA6;\n",
              "    }\n",
              "\n",
              "    [theme=dark] .colab-df-convert {\n",
              "      background-color: #3B4455;\n",
              "      fill: #D2E3FC;\n",
              "    }\n",
              "\n",
              "    [theme=dark] .colab-df-convert:hover {\n",
              "      background-color: #434B5C;\n",
              "      box-shadow: 0px 1px 3px 1px rgba(0, 0, 0, 0.15);\n",
              "      filter: drop-shadow(0px 1px 2px rgba(0, 0, 0, 0.3));\n",
              "      fill: #FFFFFF;\n",
              "    }\n",
              "  </style>\n",
              "\n",
              "      <script>\n",
              "        const buttonEl =\n",
              "          document.querySelector('#df-445400ad-963e-4a9f-aa86-8d2e80b33b6e button.colab-df-convert');\n",
              "        buttonEl.style.display =\n",
              "          google.colab.kernel.accessAllowed ? 'block' : 'none';\n",
              "\n",
              "        async function convertToInteractive(key) {\n",
              "          const element = document.querySelector('#df-445400ad-963e-4a9f-aa86-8d2e80b33b6e');\n",
              "          const dataTable =\n",
              "            await google.colab.kernel.invokeFunction('convertToInteractive',\n",
              "                                                     [key], {});\n",
              "          if (!dataTable) return;\n",
              "\n",
              "          const docLinkHtml = 'Like what you see? Visit the ' +\n",
              "            '<a target=\"_blank\" href=https://colab.research.google.com/notebooks/data_table.ipynb>data table notebook</a>'\n",
              "            + ' to learn more about interactive tables.';\n",
              "          element.innerHTML = '';\n",
              "          dataTable['output_type'] = 'display_data';\n",
              "          await google.colab.output.renderOutput(dataTable, element);\n",
              "          const docLink = document.createElement('div');\n",
              "          docLink.innerHTML = docLinkHtml;\n",
              "          element.appendChild(docLink);\n",
              "        }\n",
              "      </script>\n",
              "    </div>\n",
              "  </div>\n"
            ]
          },
          "metadata": {},
          "execution_count": 14
        }
      ]
    },
    {
      "cell_type": "code",
      "source": [
        "df.tail()"
      ],
      "metadata": {
        "id": "fbxXzaml9Vyr",
        "colab": {
          "base_uri": "https://localhost:8080/"
        },
        "outputId": "9babf58a-2af0-4a96-9f70-35e8d51033ab"
      },
      "execution_count": null,
      "outputs": [
        {
          "output_type": "execute_result",
          "data": {
            "text/plain": [
              "         step      type      amount     nameOrig  oldbalanceOrg  \\\n",
              "6362615   743  CASH_OUT   339682.13   C786484425      339682.13   \n",
              "6362616   743  TRANSFER  6311409.28  C1529008245     6311409.28   \n",
              "6362617   743  CASH_OUT  6311409.28  C1162922333     6311409.28   \n",
              "6362618   743  TRANSFER   850002.52  C1685995037      850002.52   \n",
              "6362619   743  CASH_OUT   850002.52  C1280323807      850002.52   \n",
              "\n",
              "         newbalanceOrig     nameDest  oldbalanceDest  newbalanceDest  isFraud  \\\n",
              "6362615             0.0   C776919290            0.00       339682.13        1   \n",
              "6362616             0.0  C1881841831            0.00            0.00        1   \n",
              "6362617             0.0  C1365125890        68488.84      6379898.11        1   \n",
              "6362618             0.0  C2080388513            0.00            0.00        1   \n",
              "6362619             0.0   C873221189      6510099.11      7360101.63        1   \n",
              "\n",
              "         isFlaggedFraud  \n",
              "6362615               0  \n",
              "6362616               0  \n",
              "6362617               0  \n",
              "6362618               0  \n",
              "6362619               0  "
            ],
            "text/html": [
              "\n",
              "\n",
              "  <div id=\"df-f731f6b8-5004-4360-9161-d33b21b8b233\">\n",
              "    <div class=\"colab-df-container\">\n",
              "      <div>\n",
              "<style scoped>\n",
              "    .dataframe tbody tr th:only-of-type {\n",
              "        vertical-align: middle;\n",
              "    }\n",
              "\n",
              "    .dataframe tbody tr th {\n",
              "        vertical-align: top;\n",
              "    }\n",
              "\n",
              "    .dataframe thead th {\n",
              "        text-align: right;\n",
              "    }\n",
              "</style>\n",
              "<table border=\"1\" class=\"dataframe\">\n",
              "  <thead>\n",
              "    <tr style=\"text-align: right;\">\n",
              "      <th></th>\n",
              "      <th>step</th>\n",
              "      <th>type</th>\n",
              "      <th>amount</th>\n",
              "      <th>nameOrig</th>\n",
              "      <th>oldbalanceOrg</th>\n",
              "      <th>newbalanceOrig</th>\n",
              "      <th>nameDest</th>\n",
              "      <th>oldbalanceDest</th>\n",
              "      <th>newbalanceDest</th>\n",
              "      <th>isFraud</th>\n",
              "      <th>isFlaggedFraud</th>\n",
              "    </tr>\n",
              "  </thead>\n",
              "  <tbody>\n",
              "    <tr>\n",
              "      <th>6362615</th>\n",
              "      <td>743</td>\n",
              "      <td>CASH_OUT</td>\n",
              "      <td>339682.13</td>\n",
              "      <td>C786484425</td>\n",
              "      <td>339682.13</td>\n",
              "      <td>0.0</td>\n",
              "      <td>C776919290</td>\n",
              "      <td>0.00</td>\n",
              "      <td>339682.13</td>\n",
              "      <td>1</td>\n",
              "      <td>0</td>\n",
              "    </tr>\n",
              "    <tr>\n",
              "      <th>6362616</th>\n",
              "      <td>743</td>\n",
              "      <td>TRANSFER</td>\n",
              "      <td>6311409.28</td>\n",
              "      <td>C1529008245</td>\n",
              "      <td>6311409.28</td>\n",
              "      <td>0.0</td>\n",
              "      <td>C1881841831</td>\n",
              "      <td>0.00</td>\n",
              "      <td>0.00</td>\n",
              "      <td>1</td>\n",
              "      <td>0</td>\n",
              "    </tr>\n",
              "    <tr>\n",
              "      <th>6362617</th>\n",
              "      <td>743</td>\n",
              "      <td>CASH_OUT</td>\n",
              "      <td>6311409.28</td>\n",
              "      <td>C1162922333</td>\n",
              "      <td>6311409.28</td>\n",
              "      <td>0.0</td>\n",
              "      <td>C1365125890</td>\n",
              "      <td>68488.84</td>\n",
              "      <td>6379898.11</td>\n",
              "      <td>1</td>\n",
              "      <td>0</td>\n",
              "    </tr>\n",
              "    <tr>\n",
              "      <th>6362618</th>\n",
              "      <td>743</td>\n",
              "      <td>TRANSFER</td>\n",
              "      <td>850002.52</td>\n",
              "      <td>C1685995037</td>\n",
              "      <td>850002.52</td>\n",
              "      <td>0.0</td>\n",
              "      <td>C2080388513</td>\n",
              "      <td>0.00</td>\n",
              "      <td>0.00</td>\n",
              "      <td>1</td>\n",
              "      <td>0</td>\n",
              "    </tr>\n",
              "    <tr>\n",
              "      <th>6362619</th>\n",
              "      <td>743</td>\n",
              "      <td>CASH_OUT</td>\n",
              "      <td>850002.52</td>\n",
              "      <td>C1280323807</td>\n",
              "      <td>850002.52</td>\n",
              "      <td>0.0</td>\n",
              "      <td>C873221189</td>\n",
              "      <td>6510099.11</td>\n",
              "      <td>7360101.63</td>\n",
              "      <td>1</td>\n",
              "      <td>0</td>\n",
              "    </tr>\n",
              "  </tbody>\n",
              "</table>\n",
              "</div>\n",
              "      <button class=\"colab-df-convert\" onclick=\"convertToInteractive('df-f731f6b8-5004-4360-9161-d33b21b8b233')\"\n",
              "              title=\"Convert this dataframe to an interactive table.\"\n",
              "              style=\"display:none;\">\n",
              "\n",
              "  <svg xmlns=\"http://www.w3.org/2000/svg\" height=\"24px\"viewBox=\"0 0 24 24\"\n",
              "       width=\"24px\">\n",
              "    <path d=\"M0 0h24v24H0V0z\" fill=\"none\"/>\n",
              "    <path d=\"M18.56 5.44l.94 2.06.94-2.06 2.06-.94-2.06-.94-.94-2.06-.94 2.06-2.06.94zm-11 1L8.5 8.5l.94-2.06 2.06-.94-2.06-.94L8.5 2.5l-.94 2.06-2.06.94zm10 10l.94 2.06.94-2.06 2.06-.94-2.06-.94-.94-2.06-.94 2.06-2.06.94z\"/><path d=\"M17.41 7.96l-1.37-1.37c-.4-.4-.92-.59-1.43-.59-.52 0-1.04.2-1.43.59L10.3 9.45l-7.72 7.72c-.78.78-.78 2.05 0 2.83L4 21.41c.39.39.9.59 1.41.59.51 0 1.02-.2 1.41-.59l7.78-7.78 2.81-2.81c.8-.78.8-2.07 0-2.86zM5.41 20L4 18.59l7.72-7.72 1.47 1.35L5.41 20z\"/>\n",
              "  </svg>\n",
              "      </button>\n",
              "\n",
              "\n",
              "\n",
              "    <div id=\"df-21ab1d46-7dc3-4b08-bfef-fe1ffde3c9eb\">\n",
              "      <button class=\"colab-df-quickchart\" onclick=\"quickchart('df-21ab1d46-7dc3-4b08-bfef-fe1ffde3c9eb')\"\n",
              "              title=\"Suggest charts.\"\n",
              "              style=\"display:none;\">\n",
              "\n",
              "<svg xmlns=\"http://www.w3.org/2000/svg\" height=\"24px\"viewBox=\"0 0 24 24\"\n",
              "     width=\"24px\">\n",
              "    <g>\n",
              "        <path d=\"M19 3H5c-1.1 0-2 .9-2 2v14c0 1.1.9 2 2 2h14c1.1 0 2-.9 2-2V5c0-1.1-.9-2-2-2zM9 17H7v-7h2v7zm4 0h-2V7h2v10zm4 0h-2v-4h2v4z\"/>\n",
              "    </g>\n",
              "</svg>\n",
              "      </button>\n",
              "    </div>\n",
              "\n",
              "<style>\n",
              "  .colab-df-quickchart {\n",
              "    background-color: #E8F0FE;\n",
              "    border: none;\n",
              "    border-radius: 50%;\n",
              "    cursor: pointer;\n",
              "    display: none;\n",
              "    fill: #1967D2;\n",
              "    height: 32px;\n",
              "    padding: 0 0 0 0;\n",
              "    width: 32px;\n",
              "  }\n",
              "\n",
              "  .colab-df-quickchart:hover {\n",
              "    background-color: #E2EBFA;\n",
              "    box-shadow: 0px 1px 2px rgba(60, 64, 67, 0.3), 0px 1px 3px 1px rgba(60, 64, 67, 0.15);\n",
              "    fill: #174EA6;\n",
              "  }\n",
              "\n",
              "  [theme=dark] .colab-df-quickchart {\n",
              "    background-color: #3B4455;\n",
              "    fill: #D2E3FC;\n",
              "  }\n",
              "\n",
              "  [theme=dark] .colab-df-quickchart:hover {\n",
              "    background-color: #434B5C;\n",
              "    box-shadow: 0px 1px 3px 1px rgba(0, 0, 0, 0.15);\n",
              "    filter: drop-shadow(0px 1px 2px rgba(0, 0, 0, 0.3));\n",
              "    fill: #FFFFFF;\n",
              "  }\n",
              "</style>\n",
              "\n",
              "    <script>\n",
              "      async function quickchart(key) {\n",
              "        const containerElement = document.querySelector('#' + key);\n",
              "        const charts = await google.colab.kernel.invokeFunction(\n",
              "            'suggestCharts', [key], {});\n",
              "      }\n",
              "    </script>\n",
              "\n",
              "      <script>\n",
              "\n",
              "function displayQuickchartButton(domScope) {\n",
              "  let quickchartButtonEl =\n",
              "    domScope.querySelector('#df-21ab1d46-7dc3-4b08-bfef-fe1ffde3c9eb button.colab-df-quickchart');\n",
              "  quickchartButtonEl.style.display =\n",
              "    google.colab.kernel.accessAllowed ? 'block' : 'none';\n",
              "}\n",
              "\n",
              "        displayQuickchartButton(document);\n",
              "      </script>\n",
              "      <style>\n",
              "    .colab-df-container {\n",
              "      display:flex;\n",
              "      flex-wrap:wrap;\n",
              "      gap: 12px;\n",
              "    }\n",
              "\n",
              "    .colab-df-convert {\n",
              "      background-color: #E8F0FE;\n",
              "      border: none;\n",
              "      border-radius: 50%;\n",
              "      cursor: pointer;\n",
              "      display: none;\n",
              "      fill: #1967D2;\n",
              "      height: 32px;\n",
              "      padding: 0 0 0 0;\n",
              "      width: 32px;\n",
              "    }\n",
              "\n",
              "    .colab-df-convert:hover {\n",
              "      background-color: #E2EBFA;\n",
              "      box-shadow: 0px 1px 2px rgba(60, 64, 67, 0.3), 0px 1px 3px 1px rgba(60, 64, 67, 0.15);\n",
              "      fill: #174EA6;\n",
              "    }\n",
              "\n",
              "    [theme=dark] .colab-df-convert {\n",
              "      background-color: #3B4455;\n",
              "      fill: #D2E3FC;\n",
              "    }\n",
              "\n",
              "    [theme=dark] .colab-df-convert:hover {\n",
              "      background-color: #434B5C;\n",
              "      box-shadow: 0px 1px 3px 1px rgba(0, 0, 0, 0.15);\n",
              "      filter: drop-shadow(0px 1px 2px rgba(0, 0, 0, 0.3));\n",
              "      fill: #FFFFFF;\n",
              "    }\n",
              "  </style>\n",
              "\n",
              "      <script>\n",
              "        const buttonEl =\n",
              "          document.querySelector('#df-f731f6b8-5004-4360-9161-d33b21b8b233 button.colab-df-convert');\n",
              "        buttonEl.style.display =\n",
              "          google.colab.kernel.accessAllowed ? 'block' : 'none';\n",
              "\n",
              "        async function convertToInteractive(key) {\n",
              "          const element = document.querySelector('#df-f731f6b8-5004-4360-9161-d33b21b8b233');\n",
              "          const dataTable =\n",
              "            await google.colab.kernel.invokeFunction('convertToInteractive',\n",
              "                                                     [key], {});\n",
              "          if (!dataTable) return;\n",
              "\n",
              "          const docLinkHtml = 'Like what you see? Visit the ' +\n",
              "            '<a target=\"_blank\" href=https://colab.research.google.com/notebooks/data_table.ipynb>data table notebook</a>'\n",
              "            + ' to learn more about interactive tables.';\n",
              "          element.innerHTML = '';\n",
              "          dataTable['output_type'] = 'display_data';\n",
              "          await google.colab.output.renderOutput(dataTable, element);\n",
              "          const docLink = document.createElement('div');\n",
              "          docLink.innerHTML = docLinkHtml;\n",
              "          element.appendChild(docLink);\n",
              "        }\n",
              "      </script>\n",
              "    </div>\n",
              "  </div>\n"
            ]
          },
          "metadata": {},
          "execution_count": 15
        }
      ]
    },
    {
      "cell_type": "markdown",
      "source": [
        "## Preparing dataset\n",
        "In this section, we will preprocess the dataset by generating a suitable sub-sample."
      ],
      "metadata": {
        "id": "2BrQMyryjVNb"
      }
    },
    {
      "cell_type": "markdown",
      "source": [
        "Data Preparation\n",
        "\n",
        "Before training the machine learning models, we need to prepare the data. The following steps will be performed for data preparation:\n",
        "\n",
        "1. **Data Cleaning**: We will check for missing values and handle them appropriately. This may involve imputation, deletion, or other suitable strategies.\n",
        "\n",
        "2. **Feature Scaling**: As some machine learning algorithms are sensitive to the scale of features, we will apply feature scaling to bring all the features to a similar scale. Common scaling techniques include Min-Max scaling or Standardization.\n",
        "\n",
        "3. **Train-Test Split**: We will split the dataset into training and testing sets. The training set will be used to train the models, while the testing set will be used to evaluate their performance.\n",
        "\n",
        "4. **Feature Selection (Optional)**: Depending on the dataset and model complexity, we may perform feature selection to choose the most relevant features. This can help improve model efficiency and reduce overfitting.\n",
        "\n",
        "Let's start by implementing these steps:\n"
      ],
      "metadata": {
        "id": "4s7XT7OnRDWH"
      }
    },
    {
      "cell_type": "markdown",
      "source": [
        "This code maps the values in the ```isFraud``` column of the DataFrame ```df``` from numerical representation (0 and 1) to categorical labels (```Legit``` and ```Fraud```).\n",
        "\n",
        "After running this code, the ```isFraud``` column will now contain the values ```Legit``` for 0 and ```Fraud``` for 1, making it easier to interpret and analyze the ```isFraud``` data as categorical labels rather than numerical values."
      ],
      "metadata": {
        "id": "MB1So6RvRGUH"
      }
    },
    {
      "cell_type": "code",
      "source": [
        "# Map values in the 'isFraud' column to categorical labels\n",
        "df['isFraud'] = df['isFraud'].map({0: 'Legit', 1: 'Fraud'})\n"
      ],
      "metadata": {
        "id": "VoKJTfBHkD7A"
      },
      "execution_count": null,
      "outputs": []
    },
    {
      "cell_type": "code",
      "source": [
        "df['isFraud'].value_counts()"
      ],
      "metadata": {
        "colab": {
          "base_uri": "https://localhost:8080/"
        },
        "id": "moMO7NLjBoV-",
        "outputId": "1d0ae30e-dd02-43ca-b0cb-26f06ae595ad"
      },
      "execution_count": null,
      "outputs": [
        {
          "output_type": "execute_result",
          "data": {
            "text/plain": [
              "Legit    6354407\n",
              "Fraud       8213\n",
              "Name: isFraud, dtype: int64"
            ]
          },
          "metadata": {},
          "execution_count": 17
        }
      ]
    },
    {
      "cell_type": "code",
      "source": [
        "# Separating the data for analysis\n",
        "\n",
        "# Create a new DataFrame 'legit' containing rows where 'isFraud' is equal to 'Legit'\n",
        "legit = df[df.isFraud == 'Legit']\n",
        "\n",
        "# Create a new DataFrame 'fraud' containing rows where 'isFraud' is equal to 'Fraud'\n",
        "fraud = df[df.isFraud == 'Fraud']\n"
      ],
      "metadata": {
        "id": "V2Bgfi5zBy7h"
      },
      "execution_count": null,
      "outputs": []
    },
    {
      "cell_type": "code",
      "source": [
        "print(legit.shape)\n",
        "print(fraud.shape)"
      ],
      "metadata": {
        "colab": {
          "base_uri": "https://localhost:8080/"
        },
        "id": "OSlm9EW7C9E5",
        "outputId": "0b742085-1320-4747-caac-116afc9b5c6e"
      },
      "execution_count": null,
      "outputs": [
        {
          "output_type": "stream",
          "name": "stdout",
          "text": [
            "(6354407, 11)\n",
            "(8213, 11)\n"
          ]
        }
      ]
    },
    {
      "cell_type": "code",
      "source": [
        "# Taking a random sample of 8213 rows from the DataFrame 'legit'\n",
        "legit_sample = legit.sample(n=8213)"
      ],
      "metadata": {
        "id": "yHjhjQWmpdPA"
      },
      "execution_count": null,
      "outputs": []
    },
    {
      "cell_type": "code",
      "source": [
        "# Concatenate 'legit_sample' and 'fraud' DataFrames along rows to create 'sample_dataset'\n",
        "sample_dataset = pd.concat([legit_sample, fraud], axis=0)"
      ],
      "metadata": {
        "id": "yYMhPBCrtS2W"
      },
      "execution_count": null,
      "outputs": []
    },
    {
      "cell_type": "code",
      "source": [
        "sample_dataset"
      ],
      "metadata": {
        "colab": {
          "base_uri": "https://localhost:8080/"
        },
        "id": "hbhY2vf0t1D_",
        "outputId": "de02c3a1-1429-4545-995b-1c8ee606f16f"
      },
      "execution_count": null,
      "outputs": [
        {
          "output_type": "execute_result",
          "data": {
            "text/plain": [
              "         step      type      amount     nameOrig  oldbalanceOrg  \\\n",
              "2448632   203   CASH_IN    44242.44  C1151787858     4399901.47   \n",
              "2978269   231   PAYMENT    24087.47    C99798202           0.00   \n",
              "5416624   378  CASH_OUT   148047.65   C558920699       15178.00   \n",
              "5598316   394   CASH_IN    22980.23  C1474533128      352514.00   \n",
              "5977380   407  CASH_OUT   189784.63  C1527218762           0.00   \n",
              "...       ...       ...         ...          ...            ...   \n",
              "6362615   743  CASH_OUT   339682.13   C786484425      339682.13   \n",
              "6362616   743  TRANSFER  6311409.28  C1529008245     6311409.28   \n",
              "6362617   743  CASH_OUT  6311409.28  C1162922333     6311409.28   \n",
              "6362618   743  TRANSFER   850002.52  C1685995037      850002.52   \n",
              "6362619   743  CASH_OUT   850002.52  C1280323807      850002.52   \n",
              "\n",
              "         newbalanceOrig     nameDest  oldbalanceDest  newbalanceDest isFraud  \\\n",
              "2448632      4444143.91  C1267092407       949263.29       905020.85   Legit   \n",
              "2978269            0.00  M2066305651            0.00            0.00   Legit   \n",
              "5416624            0.00  C1616029430      1750990.23      1899037.88   Legit   \n",
              "5598316       375494.23   C691479009            0.00            0.00   Legit   \n",
              "5977380            0.00  C1893907536       361561.67       551346.30   Legit   \n",
              "...                 ...          ...             ...             ...     ...   \n",
              "6362615            0.00   C776919290            0.00       339682.13   Fraud   \n",
              "6362616            0.00  C1881841831            0.00            0.00   Fraud   \n",
              "6362617            0.00  C1365125890        68488.84      6379898.11   Fraud   \n",
              "6362618            0.00  C2080388513            0.00            0.00   Fraud   \n",
              "6362619            0.00   C873221189      6510099.11      7360101.63   Fraud   \n",
              "\n",
              "         isFlaggedFraud  \n",
              "2448632               0  \n",
              "2978269               0  \n",
              "5416624               0  \n",
              "5598316               0  \n",
              "5977380               0  \n",
              "...                 ...  \n",
              "6362615               0  \n",
              "6362616               0  \n",
              "6362617               0  \n",
              "6362618               0  \n",
              "6362619               0  \n",
              "\n",
              "[16426 rows x 11 columns]"
            ],
            "text/html": [
              "\n",
              "\n",
              "  <div id=\"df-9d417e34-038d-462d-815e-362f011483b9\">\n",
              "    <div class=\"colab-df-container\">\n",
              "      <div>\n",
              "<style scoped>\n",
              "    .dataframe tbody tr th:only-of-type {\n",
              "        vertical-align: middle;\n",
              "    }\n",
              "\n",
              "    .dataframe tbody tr th {\n",
              "        vertical-align: top;\n",
              "    }\n",
              "\n",
              "    .dataframe thead th {\n",
              "        text-align: right;\n",
              "    }\n",
              "</style>\n",
              "<table border=\"1\" class=\"dataframe\">\n",
              "  <thead>\n",
              "    <tr style=\"text-align: right;\">\n",
              "      <th></th>\n",
              "      <th>step</th>\n",
              "      <th>type</th>\n",
              "      <th>amount</th>\n",
              "      <th>nameOrig</th>\n",
              "      <th>oldbalanceOrg</th>\n",
              "      <th>newbalanceOrig</th>\n",
              "      <th>nameDest</th>\n",
              "      <th>oldbalanceDest</th>\n",
              "      <th>newbalanceDest</th>\n",
              "      <th>isFraud</th>\n",
              "      <th>isFlaggedFraud</th>\n",
              "    </tr>\n",
              "  </thead>\n",
              "  <tbody>\n",
              "    <tr>\n",
              "      <th>2448632</th>\n",
              "      <td>203</td>\n",
              "      <td>CASH_IN</td>\n",
              "      <td>44242.44</td>\n",
              "      <td>C1151787858</td>\n",
              "      <td>4399901.47</td>\n",
              "      <td>4444143.91</td>\n",
              "      <td>C1267092407</td>\n",
              "      <td>949263.29</td>\n",
              "      <td>905020.85</td>\n",
              "      <td>Legit</td>\n",
              "      <td>0</td>\n",
              "    </tr>\n",
              "    <tr>\n",
              "      <th>2978269</th>\n",
              "      <td>231</td>\n",
              "      <td>PAYMENT</td>\n",
              "      <td>24087.47</td>\n",
              "      <td>C99798202</td>\n",
              "      <td>0.00</td>\n",
              "      <td>0.00</td>\n",
              "      <td>M2066305651</td>\n",
              "      <td>0.00</td>\n",
              "      <td>0.00</td>\n",
              "      <td>Legit</td>\n",
              "      <td>0</td>\n",
              "    </tr>\n",
              "    <tr>\n",
              "      <th>5416624</th>\n",
              "      <td>378</td>\n",
              "      <td>CASH_OUT</td>\n",
              "      <td>148047.65</td>\n",
              "      <td>C558920699</td>\n",
              "      <td>15178.00</td>\n",
              "      <td>0.00</td>\n",
              "      <td>C1616029430</td>\n",
              "      <td>1750990.23</td>\n",
              "      <td>1899037.88</td>\n",
              "      <td>Legit</td>\n",
              "      <td>0</td>\n",
              "    </tr>\n",
              "    <tr>\n",
              "      <th>5598316</th>\n",
              "      <td>394</td>\n",
              "      <td>CASH_IN</td>\n",
              "      <td>22980.23</td>\n",
              "      <td>C1474533128</td>\n",
              "      <td>352514.00</td>\n",
              "      <td>375494.23</td>\n",
              "      <td>C691479009</td>\n",
              "      <td>0.00</td>\n",
              "      <td>0.00</td>\n",
              "      <td>Legit</td>\n",
              "      <td>0</td>\n",
              "    </tr>\n",
              "    <tr>\n",
              "      <th>5977380</th>\n",
              "      <td>407</td>\n",
              "      <td>CASH_OUT</td>\n",
              "      <td>189784.63</td>\n",
              "      <td>C1527218762</td>\n",
              "      <td>0.00</td>\n",
              "      <td>0.00</td>\n",
              "      <td>C1893907536</td>\n",
              "      <td>361561.67</td>\n",
              "      <td>551346.30</td>\n",
              "      <td>Legit</td>\n",
              "      <td>0</td>\n",
              "    </tr>\n",
              "    <tr>\n",
              "      <th>...</th>\n",
              "      <td>...</td>\n",
              "      <td>...</td>\n",
              "      <td>...</td>\n",
              "      <td>...</td>\n",
              "      <td>...</td>\n",
              "      <td>...</td>\n",
              "      <td>...</td>\n",
              "      <td>...</td>\n",
              "      <td>...</td>\n",
              "      <td>...</td>\n",
              "      <td>...</td>\n",
              "    </tr>\n",
              "    <tr>\n",
              "      <th>6362615</th>\n",
              "      <td>743</td>\n",
              "      <td>CASH_OUT</td>\n",
              "      <td>339682.13</td>\n",
              "      <td>C786484425</td>\n",
              "      <td>339682.13</td>\n",
              "      <td>0.00</td>\n",
              "      <td>C776919290</td>\n",
              "      <td>0.00</td>\n",
              "      <td>339682.13</td>\n",
              "      <td>Fraud</td>\n",
              "      <td>0</td>\n",
              "    </tr>\n",
              "    <tr>\n",
              "      <th>6362616</th>\n",
              "      <td>743</td>\n",
              "      <td>TRANSFER</td>\n",
              "      <td>6311409.28</td>\n",
              "      <td>C1529008245</td>\n",
              "      <td>6311409.28</td>\n",
              "      <td>0.00</td>\n",
              "      <td>C1881841831</td>\n",
              "      <td>0.00</td>\n",
              "      <td>0.00</td>\n",
              "      <td>Fraud</td>\n",
              "      <td>0</td>\n",
              "    </tr>\n",
              "    <tr>\n",
              "      <th>6362617</th>\n",
              "      <td>743</td>\n",
              "      <td>CASH_OUT</td>\n",
              "      <td>6311409.28</td>\n",
              "      <td>C1162922333</td>\n",
              "      <td>6311409.28</td>\n",
              "      <td>0.00</td>\n",
              "      <td>C1365125890</td>\n",
              "      <td>68488.84</td>\n",
              "      <td>6379898.11</td>\n",
              "      <td>Fraud</td>\n",
              "      <td>0</td>\n",
              "    </tr>\n",
              "    <tr>\n",
              "      <th>6362618</th>\n",
              "      <td>743</td>\n",
              "      <td>TRANSFER</td>\n",
              "      <td>850002.52</td>\n",
              "      <td>C1685995037</td>\n",
              "      <td>850002.52</td>\n",
              "      <td>0.00</td>\n",
              "      <td>C2080388513</td>\n",
              "      <td>0.00</td>\n",
              "      <td>0.00</td>\n",
              "      <td>Fraud</td>\n",
              "      <td>0</td>\n",
              "    </tr>\n",
              "    <tr>\n",
              "      <th>6362619</th>\n",
              "      <td>743</td>\n",
              "      <td>CASH_OUT</td>\n",
              "      <td>850002.52</td>\n",
              "      <td>C1280323807</td>\n",
              "      <td>850002.52</td>\n",
              "      <td>0.00</td>\n",
              "      <td>C873221189</td>\n",
              "      <td>6510099.11</td>\n",
              "      <td>7360101.63</td>\n",
              "      <td>Fraud</td>\n",
              "      <td>0</td>\n",
              "    </tr>\n",
              "  </tbody>\n",
              "</table>\n",
              "<p>16426 rows × 11 columns</p>\n",
              "</div>\n",
              "      <button class=\"colab-df-convert\" onclick=\"convertToInteractive('df-9d417e34-038d-462d-815e-362f011483b9')\"\n",
              "              title=\"Convert this dataframe to an interactive table.\"\n",
              "              style=\"display:none;\">\n",
              "\n",
              "  <svg xmlns=\"http://www.w3.org/2000/svg\" height=\"24px\"viewBox=\"0 0 24 24\"\n",
              "       width=\"24px\">\n",
              "    <path d=\"M0 0h24v24H0V0z\" fill=\"none\"/>\n",
              "    <path d=\"M18.56 5.44l.94 2.06.94-2.06 2.06-.94-2.06-.94-.94-2.06-.94 2.06-2.06.94zm-11 1L8.5 8.5l.94-2.06 2.06-.94-2.06-.94L8.5 2.5l-.94 2.06-2.06.94zm10 10l.94 2.06.94-2.06 2.06-.94-2.06-.94-.94-2.06-.94 2.06-2.06.94z\"/><path d=\"M17.41 7.96l-1.37-1.37c-.4-.4-.92-.59-1.43-.59-.52 0-1.04.2-1.43.59L10.3 9.45l-7.72 7.72c-.78.78-.78 2.05 0 2.83L4 21.41c.39.39.9.59 1.41.59.51 0 1.02-.2 1.41-.59l7.78-7.78 2.81-2.81c.8-.78.8-2.07 0-2.86zM5.41 20L4 18.59l7.72-7.72 1.47 1.35L5.41 20z\"/>\n",
              "  </svg>\n",
              "      </button>\n",
              "\n",
              "\n",
              "\n",
              "    <div id=\"df-ae4bb350-61be-44cd-9b2c-3c7d2d5e5035\">\n",
              "      <button class=\"colab-df-quickchart\" onclick=\"quickchart('df-ae4bb350-61be-44cd-9b2c-3c7d2d5e5035')\"\n",
              "              title=\"Suggest charts.\"\n",
              "              style=\"display:none;\">\n",
              "\n",
              "<svg xmlns=\"http://www.w3.org/2000/svg\" height=\"24px\"viewBox=\"0 0 24 24\"\n",
              "     width=\"24px\">\n",
              "    <g>\n",
              "        <path d=\"M19 3H5c-1.1 0-2 .9-2 2v14c0 1.1.9 2 2 2h14c1.1 0 2-.9 2-2V5c0-1.1-.9-2-2-2zM9 17H7v-7h2v7zm4 0h-2V7h2v10zm4 0h-2v-4h2v4z\"/>\n",
              "    </g>\n",
              "</svg>\n",
              "      </button>\n",
              "    </div>\n",
              "\n",
              "<style>\n",
              "  .colab-df-quickchart {\n",
              "    background-color: #E8F0FE;\n",
              "    border: none;\n",
              "    border-radius: 50%;\n",
              "    cursor: pointer;\n",
              "    display: none;\n",
              "    fill: #1967D2;\n",
              "    height: 32px;\n",
              "    padding: 0 0 0 0;\n",
              "    width: 32px;\n",
              "  }\n",
              "\n",
              "  .colab-df-quickchart:hover {\n",
              "    background-color: #E2EBFA;\n",
              "    box-shadow: 0px 1px 2px rgba(60, 64, 67, 0.3), 0px 1px 3px 1px rgba(60, 64, 67, 0.15);\n",
              "    fill: #174EA6;\n",
              "  }\n",
              "\n",
              "  [theme=dark] .colab-df-quickchart {\n",
              "    background-color: #3B4455;\n",
              "    fill: #D2E3FC;\n",
              "  }\n",
              "\n",
              "  [theme=dark] .colab-df-quickchart:hover {\n",
              "    background-color: #434B5C;\n",
              "    box-shadow: 0px 1px 3px 1px rgba(0, 0, 0, 0.15);\n",
              "    filter: drop-shadow(0px 1px 2px rgba(0, 0, 0, 0.3));\n",
              "    fill: #FFFFFF;\n",
              "  }\n",
              "</style>\n",
              "\n",
              "    <script>\n",
              "      async function quickchart(key) {\n",
              "        const containerElement = document.querySelector('#' + key);\n",
              "        const charts = await google.colab.kernel.invokeFunction(\n",
              "            'suggestCharts', [key], {});\n",
              "      }\n",
              "    </script>\n",
              "\n",
              "      <script>\n",
              "\n",
              "function displayQuickchartButton(domScope) {\n",
              "  let quickchartButtonEl =\n",
              "    domScope.querySelector('#df-ae4bb350-61be-44cd-9b2c-3c7d2d5e5035 button.colab-df-quickchart');\n",
              "  quickchartButtonEl.style.display =\n",
              "    google.colab.kernel.accessAllowed ? 'block' : 'none';\n",
              "}\n",
              "\n",
              "        displayQuickchartButton(document);\n",
              "      </script>\n",
              "      <style>\n",
              "    .colab-df-container {\n",
              "      display:flex;\n",
              "      flex-wrap:wrap;\n",
              "      gap: 12px;\n",
              "    }\n",
              "\n",
              "    .colab-df-convert {\n",
              "      background-color: #E8F0FE;\n",
              "      border: none;\n",
              "      border-radius: 50%;\n",
              "      cursor: pointer;\n",
              "      display: none;\n",
              "      fill: #1967D2;\n",
              "      height: 32px;\n",
              "      padding: 0 0 0 0;\n",
              "      width: 32px;\n",
              "    }\n",
              "\n",
              "    .colab-df-convert:hover {\n",
              "      background-color: #E2EBFA;\n",
              "      box-shadow: 0px 1px 2px rgba(60, 64, 67, 0.3), 0px 1px 3px 1px rgba(60, 64, 67, 0.15);\n",
              "      fill: #174EA6;\n",
              "    }\n",
              "\n",
              "    [theme=dark] .colab-df-convert {\n",
              "      background-color: #3B4455;\n",
              "      fill: #D2E3FC;\n",
              "    }\n",
              "\n",
              "    [theme=dark] .colab-df-convert:hover {\n",
              "      background-color: #434B5C;\n",
              "      box-shadow: 0px 1px 3px 1px rgba(0, 0, 0, 0.15);\n",
              "      filter: drop-shadow(0px 1px 2px rgba(0, 0, 0, 0.3));\n",
              "      fill: #FFFFFF;\n",
              "    }\n",
              "  </style>\n",
              "\n",
              "      <script>\n",
              "        const buttonEl =\n",
              "          document.querySelector('#df-9d417e34-038d-462d-815e-362f011483b9 button.colab-df-convert');\n",
              "        buttonEl.style.display =\n",
              "          google.colab.kernel.accessAllowed ? 'block' : 'none';\n",
              "\n",
              "        async function convertToInteractive(key) {\n",
              "          const element = document.querySelector('#df-9d417e34-038d-462d-815e-362f011483b9');\n",
              "          const dataTable =\n",
              "            await google.colab.kernel.invokeFunction('convertToInteractive',\n",
              "                                                     [key], {});\n",
              "          if (!dataTable) return;\n",
              "\n",
              "          const docLinkHtml = 'Like what you see? Visit the ' +\n",
              "            '<a target=\"_blank\" href=https://colab.research.google.com/notebooks/data_table.ipynb>data table notebook</a>'\n",
              "            + ' to learn more about interactive tables.';\n",
              "          element.innerHTML = '';\n",
              "          dataTable['output_type'] = 'display_data';\n",
              "          await google.colab.output.renderOutput(dataTable, element);\n",
              "          const docLink = document.createElement('div');\n",
              "          docLink.innerHTML = docLinkHtml;\n",
              "          element.appendChild(docLink);\n",
              "        }\n",
              "      </script>\n",
              "    </div>\n",
              "  </div>\n"
            ]
          },
          "metadata": {},
          "execution_count": 22
        }
      ]
    },
    {
      "cell_type": "code",
      "source": [
        "sns.boxplot(x='isFraud', y='amount', data=sample_dataset)\n",
        "\n",
        "ax = plt.gca()\n",
        "ax.xaxis.set_major_formatter(ticker.ScalarFormatter())\n",
        "ax.ticklabel_format(style='plain', useOffset=False)\n",
        "\n",
        "plt.title(\"Amount vs Fraud\")\n",
        "plt.show()"
      ],
      "metadata": {
        "colab": {
          "base_uri": "https://localhost:8080/"
        },
        "id": "FBiyf8Hfu94d",
        "outputId": "878b0f68-ba03-4a68-96f9-cdab14200409"
      },
      "execution_count": null,
      "outputs": [
        {
          "output_type": "display_data",
          "data": {
            "text/plain": [
              "<Figure size 640x480 with 1 Axes>"
            ],
            "image/png": "[encoded data removed]"
          },
          "metadata": {}
        }
      ]
    },
    {
      "cell_type": "code",
      "source": [
        "# Convert 'type' column values to numeric representation for model training\n",
        "\n",
        "# The 'type' column contains categorical strings representing different types of transactions.\n",
        "# We want to convert these strings to numeric values for training the machine learning model.\n",
        "\n",
        "# The mapping is as follows:\n",
        "# 'CASH_OUT' -> 1\n",
        "# 'PAYMENT' -> 2\n",
        "# 'CASH_IN' -> 3\n",
        "# 'TRANSFER' -> 4\n",
        "# 'DEBIT' -> 5\n",
        "\n",
        "# Using the replace() function, we perform the conversion in-place within the DataFrame 'df'.\n",
        "# The inplace=True argument ensures that the changes are made directly to the DataFrame 'df'.\n",
        "\n",
        "sample_dataset.replace(to_replace = ['CASH_OUT','PAYMENT','CASH_IN','TRANSFER','DEBIT'], value = [1,2,3,4,5], inplace = True)"
      ],
      "metadata": {
        "id": "4JJVXkc_N2UM"
      },
      "execution_count": null,
      "outputs": []
    },
    {
      "cell_type": "code",
      "source": [
        "sns.countplot(x='type', data=sample_dataset)\n",
        "plt.title('Category distribution')\n",
        "plt.xticks(rotation=90)\n",
        "plt.show()"
      ],
      "metadata": {
        "colab": {
          "base_uri": "https://localhost:8080/"
        },
        "id": "QeiGXNr9vAqk",
        "outputId": "cc9d6eaf-71ae-4729-9a6c-e31c15bc2c7b"
      },
      "execution_count": null,
      "outputs": [
        {
          "output_type": "display_data",
          "data": {
            "text/plain": [
              "<Figure size 640x480 with 1 Axes>"
            ],
            "image/png": "[encoded data removed]"
          },
          "metadata": {}
        }
      ]
    },
    {
      "cell_type": "code",
      "source": [
        "sns.countplot(x='step', hue='isFraud', data=sample_dataset)\n",
        "plt.title(\"Gender vs Fraud\")\n",
        "plt.show()"
      ],
      "metadata": {
        "colab": {
          "base_uri": "https://localhost:8080/"
        },
        "id": "Hz7Zqnh--ZQD",
        "outputId": "146dedf2-bb73-4188-87bc-dda90cf02d82"
      },
      "execution_count": null,
      "outputs": [
        {
          "output_type": "display_data",
          "data": {
            "text/plain": [
              "<Figure size 640x480 with 1 Axes>"
            ],
            "image/png": "[encoded data removed]"
          },
          "metadata": {}
        }
      ]
    },
    {
      "cell_type": "code",
      "source": [
        "sns.countplot(x='type', hue='isFraud', data=sample_dataset)\n",
        "plt.title(\"Gender vs Fraud\")\n",
        "plt.show()"
      ],
      "metadata": {
        "colab": {
          "base_uri": "https://localhost:8080/"
        },
        "id": "ZKNvtPTTvKBG",
        "outputId": "5875e728-fc13-4ef1-b3e7-d563172dda6e"
      },
      "execution_count": null,
      "outputs": [
        {
          "output_type": "display_data",
          "data": {
            "text/plain": [
              "<Figure size 640x480 with 1 Axes>"
            ],
            "image/png": "[encoded data removed]"
          },
          "metadata": {}
        }
      ]
    },
    {
      "cell_type": "code",
      "source": [
        "shuffled_df = sample_dataset.sample(frac=1, random_state=42)\n",
        "shuffled_df.reset_index(drop=True, inplace=True)\n",
        "sns.scatterplot(data=shuffled_df, x='amount', y='step', hue='isFraud')\n",
        "plt.title('Amount vs Step vs Fraud')\n",
        "plt.show()"
      ],
      "metadata": {
        "colab": {
          "base_uri": "https://localhost:8080/"
        },
        "id": "WYzHx1tBwBsz",
        "outputId": "0290f817-2635-46b2-b12e-4f4ac41d873e"
      },
      "execution_count": null,
      "outputs": [
        {
          "output_type": "display_data",
          "data": {
            "text/plain": [
              "<Figure size 640x480 with 1 Axes>"
            ],
            "image/png": "[encoded data removed]"
          },
          "metadata": {}
        }
      ]
    },
    {
      "cell_type": "markdown",
      "source": [
        "### Selecting Feature Variables\n",
        "\n",
        "The code `sample_dataset[['step', 'type', 'amount', 'oldbalanceOrg', 'newbalanceOrig']` selects the specified columns 'step', 'type', 'amount', 'oldbalanceOrg', 'newbalanceOrig', 'oldbalanceDest', and 'newbalanceDest' from the 'sample_dataset' DataFrame. These columns are considered as feature variables, and the resulting DataFrame 'x' will contain these features for training the machine learning model.\n",
        "\n",
        "### Selecting Target Variable\n",
        "\n",
        "On the other hand, the code `sample_dataset.iloc[:, -2]` selects the second-to-last column (-2) from the 'sample_dataset' DataFrame. This column corresponds to the target variable 'isFraud'. The resulting Series 'y' will contain the target variable values (either 'Legit' or 'Fraud') that the machine learning model aims to predict.\n"
      ],
      "metadata": {
        "id": "mZNQpLrHOeTe"
      }
    },
    {
      "cell_type": "code",
      "source": [
        "# Extracting feature variables 'x' from the 'sample_dataset'\n",
        "x = sample_dataset[['step', 'type', 'amount', 'oldbalanceOrg', 'newbalanceOrig']]\n",
        "\n",
        "# Extracting the target variable 'y' from the 'sample_dataset'\n",
        "y = sample_dataset.iloc[:, -2]"
      ],
      "metadata": {
        "id": "CnYzdgajxv--"
      },
      "execution_count": null,
      "outputs": []
    },
    {
      "cell_type": "code",
      "source": [
        "x,y"
      ],
      "metadata": {
        "colab": {
          "base_uri": "https://localhost:8080/"
        },
        "id": "BZmdqNyryNnQ",
        "outputId": "c6e8efe7-9806-4171-d2e4-844685d9335f"
      },
      "execution_count": null,
      "outputs": [
        {
          "output_type": "execute_result",
          "data": {
            "text/plain": [
              "(         step  type      amount  oldbalanceOrg  newbalanceOrig\n",
              " 2448632   203     3    44242.44     4399901.47      4444143.91\n",
              " 2978269   231     2    24087.47           0.00            0.00\n",
              " 5416624   378     1   148047.65       15178.00            0.00\n",
              " 5598316   394     3    22980.23      352514.00       375494.23\n",
              " 5977380   407     1   189784.63           0.00            0.00\n",
              " ...       ...   ...         ...            ...             ...\n",
              " 6362615   743     1   339682.13      339682.13            0.00\n",
              " 6362616   743     4  6311409.28     6311409.28            0.00\n",
              " 6362617   743     1  6311409.28     6311409.28            0.00\n",
              " 6362618   743     4   850002.52      850002.52            0.00\n",
              " 6362619   743     1   850002.52      850002.52            0.00\n",
              " \n",
              " [16426 rows x 5 columns],\n",
              " 2448632    Legit\n",
              " 2978269    Legit\n",
              " 5416624    Legit\n",
              " 5598316    Legit\n",
              " 5977380    Legit\n",
              "            ...  \n",
              " 6362615    Fraud\n",
              " 6362616    Fraud\n",
              " 6362617    Fraud\n",
              " 6362618    Fraud\n",
              " 6362619    Fraud\n",
              " Name: isFraud, Length: 16426, dtype: object)"
            ]
          },
          "metadata": {},
          "execution_count": 30
        }
      ]
    },
    {
      "cell_type": "markdown",
      "source": [
        "After executing this code, 'X_train', 'X_test', 'y_train', and 'y_test' will be ready for use in training and evaluating a machine learning model. The model can be trained using 'X_train' and 'y_train', and then evaluated using 'X_test' and 'y_test'. This ensures that the model's performance is assessed on unseen data, helping to evaluate its generalization ability."
      ],
      "metadata": {
        "id": "PpKObEXIO470"
      }
    },
    {
      "cell_type": "code",
      "source": [
        "X_train, X_test, y_train, y_test = train_test_split(x,y,test_size = 0.3)"
      ],
      "metadata": {
        "id": "LWIDq59Rx6wo"
      },
      "execution_count": null,
      "outputs": []
    },
    {
      "cell_type": "code",
      "source": [
        "print(\"Length of X_train:\", len(X_train))\n",
        "print(\"Length of y_train:\", len(y_train))\n",
        "print(\"Length of X_test:\", len(X_test))\n",
        "print(\"Length of y_test:\", len(y_test))"
      ],
      "metadata": {
        "colab": {
          "base_uri": "https://localhost:8080/"
        },
        "id": "lUKPpdGzx6wp",
        "outputId": "b25d3b4b-7b58-4617-9748-e20a2a33b261"
      },
      "execution_count": null,
      "outputs": [
        {
          "output_type": "stream",
          "name": "stdout",
          "text": [
            "Length of X_train: 11498\n",
            "Length of y_train: 11498\n",
            "Length of X_test: 4928\n",
            "Length of y_test: 4928\n"
          ]
        }
      ]
    },
    {
      "cell_type": "code",
      "source": [],
      "metadata": {
        "id": "gASc479QRBAl"
      },
      "execution_count": null,
      "outputs": []
    },
    {
      "cell_type": "markdown",
      "source": [
        "## Training model\n",
        "In this section, we will train multiple machine learning models using scikit-learn's library to predict the target variable based on the feature variables. We will use the following classifiers:\n",
        "\n",
        "1. Logistic Regression (`model_lr`)\n",
        "2. Decision Tree Classifier (`model_dt`)\n",
        "3. Random Forest Classifier (`model_rf`)\n",
        "4. Gradient Boosting Classifier (`model_gb`)\n",
        "5. Support Vector Machine Classifier (`model_svm`)\n",
        "6. K-Nearest Neighbors Classifier (`model_knn`)\n",
        "7. Multi-Layer Perceptron Classifier (`model_mlp`)\n",
        "\n",
        "To begin the training process, we have already instantiated these classifiers with their respective default parameters.\n"
      ],
      "metadata": {
        "id": "sZ5tXOAiPkmY"
      }
    },
    {
      "cell_type": "code",
      "source": [
        "from sklearn.linear_model import LogisticRegression\n",
        "from sklearn.tree import DecisionTreeClassifier\n",
        "from sklearn.ensemble import RandomForestClassifier, GradientBoostingClassifier\n",
        "from sklearn.svm import SVC\n",
        "from sklearn.neighbors import KNeighborsClassifier\n",
        "from sklearn.neural_network import MLPClassifier\n",
        "\n",
        "# Instantiate the models\n",
        "model_lr = LogisticRegression()\n",
        "model_dt = DecisionTreeClassifier()\n",
        "model_rf = RandomForestClassifier()\n",
        "model_gb = GradientBoostingClassifier()\n",
        "model_svm = SVC()\n",
        "model_knn = KNeighborsClassifier()\n",
        "model_mlp = MLPClassifier()\n"
      ],
      "metadata": {
        "id": "m6O61IaL1iiZ"
      },
      "execution_count": null,
      "outputs": []
    },
    {
      "cell_type": "markdown",
      "source": [
        "Evaluation Metrics for Machine Learning Models\n",
        "\n",
        "- **Accuracy**: The proportion of correctly predicted instances.\n",
        "\n",
        "- **Precision**: The ability of the model to correctly identify positive instances among the predicted positive instances.\n",
        "\n",
        "- **Recall**: The ability of the model to correctly identify positive instances among the actual positive instances.\n",
        "\n",
        "- **F1-score**: The harmonic mean of precision and recall, providing a balanced measure between the two.\n",
        "\n",
        "- **AUC-ROC**: The Area Under the Receiver Operating Characteristic (ROC) Curve, a measure of the model's ability to distinguish between classes.\n"
      ],
      "metadata": {
        "id": "rDcXiQQBRq71"
      }
    },
    {
      "cell_type": "code",
      "source": [
        "from sklearn.metrics import accuracy_score, precision_score, recall_score, f1_score, roc_auc_score\n",
        "from sklearn.preprocessing import LabelEncoder\n",
        "\n",
        "# Convert the target labels to numeric values using label encoding\n",
        "label_encoder = LabelEncoder()\n",
        "y_train_encoded = label_encoder.fit_transform(y_train)\n",
        "y_test_encoded = label_encoder.transform(y_test)\n",
        "\n",
        "evaluation_results = {\n",
        "    \"Model\": [],\n",
        "    \"Accuracy\": [],\n",
        "    \"Precision\": [],\n",
        "    \"Recall\": [],\n",
        "    \"F1-score\": [],\n",
        "    \"AUC-ROC\": []\n",
        "}\n",
        "\n",
        "# Dictionary to store the models and their corresponding evaluation metrics\n",
        "models = {\n",
        "    \"Logistic Regression\": model_lr,\n",
        "    \"Decision Tree\": model_dt,\n",
        "    \"Random Forest\": model_rf,\n",
        "    \"Gradient Boosting\": model_gb,\n",
        "    \"Support Vector Machine\": model_svm,\n",
        "    \"K-Nearest Neighbors\": model_knn,\n",
        "    \"Multi-layer Perceptron\": model_mlp,\n",
        "}\n",
        "\n",
        "# Train and evaluate each model\n",
        "for model_name, model in models.items():\n",
        "    model.fit(X_train, y_train_encoded)\n",
        "    y_pred = model.predict(X_test)\n",
        "\n",
        "    accuracy = accuracy_score(y_test_encoded, y_pred)\n",
        "    precision = precision_score(y_test_encoded, y_pred)\n",
        "    recall = recall_score(y_test_encoded, y_pred)\n",
        "    f1 = f1_score(y_test_encoded, y_pred)\n",
        "    roc_auc = roc_auc_score(y_test_encoded, y_pred)\n",
        "\n",
        "    # Store the results in the dictionary\n",
        "    evaluation_results[\"Model\"].append(model_name)\n",
        "    evaluation_results[\"Accuracy\"].append(accuracy)\n",
        "    evaluation_results[\"Precision\"].append(precision)\n",
        "    evaluation_results[\"Recall\"].append(recall)\n",
        "    evaluation_results[\"F1-score\"].append(f1)\n",
        "    evaluation_results[\"AUC-ROC\"].append(roc_auc)\n",
        "\n",
        "    print(f\"Model: {model_name}\")\n",
        "    print(f\"Accuracy: {accuracy:.4f}\")\n",
        "    print(f\"Precision: {precision:.4f}\")\n",
        "    print(f\"Recall: {recall:.4f}\")\n",
        "    print(f\"F1-score: {f1:.4f}\")\n",
        "    print(f\"AUC-ROC: {roc_auc:.4f}\")\n",
        "    print(\"-------------------------------------------\")\n"
      ],
      "metadata": {
        "colab": {
          "base_uri": "https://localhost:8080/"
        },
        "id": "drl4Jz5b3KQP",
        "outputId": "37ec68b0-5bde-4ba5-f753-1585dce96d79"
      },
      "execution_count": null,
      "outputs": [
        {
          "output_type": "stream",
          "name": "stdout",
          "text": [
            "Model: Logistic Regression\n",
            "Accuracy: 0.9127\n",
            "Precision: 0.9026\n",
            "Recall: 0.9259\n",
            "F1-score: 0.9141\n",
            "AUC-ROC: 0.9127\n",
            "-------------------------------------------\n",
            "Model: Decision Tree\n",
            "Accuracy: 0.9882\n",
            "Precision: 0.9931\n",
            "Recall: 0.9834\n",
            "F1-score: 0.9882\n",
            "AUC-ROC: 0.9882\n",
            "-------------------------------------------\n",
            "Model: Random Forest\n",
            "Accuracy: 0.9927\n",
            "Precision: 0.9967\n",
            "Recall: 0.9887\n",
            "F1-score: 0.9927\n",
            "AUC-ROC: 0.9927\n",
            "-------------------------------------------\n",
            "Model: Gradient Boosting\n",
            "Accuracy: 0.9880\n",
            "Precision: 0.9967\n",
            "Recall: 0.9794\n",
            "F1-score: 0.9880\n",
            "AUC-ROC: 0.9881\n",
            "-------------------------------------------\n",
            "Model: Support Vector Machine\n",
            "Accuracy: 0.8618\n",
            "Precision: 0.7956\n",
            "Recall: 0.9749\n",
            "F1-score: 0.8762\n",
            "AUC-ROC: 0.8615\n",
            "-------------------------------------------\n",
            "Model: K-Nearest Neighbors\n",
            "Accuracy: 0.9905\n",
            "Precision: 0.9963\n",
            "Recall: 0.9846\n",
            "F1-score: 0.9904\n",
            "AUC-ROC: 0.9905\n",
            "-------------------------------------------\n",
            "Model: Multi-layer Perceptron\n",
            "Accuracy: 0.9476\n",
            "Precision: 0.9711\n",
            "Recall: 0.9231\n",
            "F1-score: 0.9465\n",
            "AUC-ROC: 0.9477\n",
            "-------------------------------------------\n"
          ]
        }
      ]
    },
    {
      "cell_type": "code",
      "source": [
        "evaluation_results"
      ],
      "metadata": {
        "colab": {
          "base_uri": "https://localhost:8080/"
        },
        "id": "QPJoTArZUlff",
        "outputId": "ad0c329d-b62b-4578-d529-a1b267b56114"
      },
      "execution_count": null,
      "outputs": [
        {
          "output_type": "execute_result",
          "data": {
            "text/plain": [
              "{'Model': ['Logistic Regression',\n",
              "  'Decision Tree',\n",
              "  'Random Forest',\n",
              "  'Gradient Boosting',\n",
              "  'Support Vector Machine',\n",
              "  'K-Nearest Neighbors',\n",
              "  'Multi-layer Perceptron'],\n",
              " 'Accuracy': [0.9127435064935064,\n",
              "  0.9882305194805194,\n",
              "  0.9926948051948052,\n",
              "  0.9880275974025974,\n",
              "  0.861810064935065,\n",
              "  0.9904626623376623,\n",
              "  0.9476461038961039],\n",
              " 'Precision': [0.9025641025641026,\n",
              "  0.9930527176134042,\n",
              "  0.9967360261117911,\n",
              "  0.9967051070840197,\n",
              "  0.7955746367239102,\n",
              "  0.9963144963144963,\n",
              "  0.9710515112813963],\n",
              " 'Recall': [0.9259409146094698,\n",
              "  0.9834075273168758,\n",
              "  0.9886685552407932,\n",
              "  0.9793605827600161,\n",
              "  0.9749089437474706,\n",
              "  0.9846216106839336,\n",
              "  0.9231080534196682],\n",
              " 'F1-score': [0.9141030763084298,\n",
              "  0.9882065880439203,\n",
              "  0.992685900040634,\n",
              "  0.9879567258624208,\n",
              "  0.8761593016912165,\n",
              "  0.9904335436596784,\n",
              "  0.9464730290456431],\n",
              " 'AUC-ROC': [0.9127059070401846,\n",
              "  0.9882442601989344,\n",
              "  0.992706275992395,\n",
              "  0.9880522897520064,\n",
              "  0.8614878459071091,\n",
              "  0.990479303510465,\n",
              "  0.9477160128718203]}"
            ]
          },
          "metadata": {},
          "execution_count": 35
        }
      ]
    },
    {
      "cell_type": "code",
      "source": [
        "from tabulate import tabulate\n",
        "\n",
        "# Evaluation results for each model\n",
        "evaluation_results = evaluation_results\n",
        "\n",
        "# Table headers\n",
        "headers = [\"Model\", \"Accuracy\", \"Precision\", \"Recall\", \"F1-score\", \"AUC-ROC\"]\n",
        "\n",
        "# Print the table\n",
        "print(tabulate(evaluation_results, headers=headers, tablefmt=\"grid\"))\n"
      ],
      "metadata": {
        "colab": {
          "base_uri": "https://localhost:8080/"
        },
        "id": "MP974fSN4pqi",
        "outputId": "6d2064aa-4d81-46ba-be66-58933928be34"
      },
      "execution_count": null,
      "outputs": [
        {
          "output_type": "stream",
          "name": "stdout",
          "text": [
            "+------------------------+------------+-------------+----------+------------+-----------+\n",
            "| Model                  |   Accuracy |   Precision |   Recall |   F1-score |   AUC-ROC |\n",
            "+========================+============+=============+==========+============+===========+\n",
            "| Logistic Regression    |   0.912744 |    0.902564 | 0.925941 |   0.914103 |  0.912706 |\n",
            "+------------------------+------------+-------------+----------+------------+-----------+\n",
            "| Decision Tree          |   0.988231 |    0.993053 | 0.983408 |   0.988207 |  0.988244 |\n",
            "+------------------------+------------+-------------+----------+------------+-----------+\n",
            "| Random Forest          |   0.992695 |    0.996736 | 0.988669 |   0.992686 |  0.992706 |\n",
            "+------------------------+------------+-------------+----------+------------+-----------+\n",
            "| Gradient Boosting      |   0.988028 |    0.996705 | 0.979361 |   0.987957 |  0.988052 |\n",
            "+------------------------+------------+-------------+----------+------------+-----------+\n",
            "| Support Vector Machine |   0.86181  |    0.795575 | 0.974909 |   0.876159 |  0.861488 |\n",
            "+------------------------+------------+-------------+----------+------------+-----------+\n",
            "| K-Nearest Neighbors    |   0.990463 |    0.996314 | 0.984622 |   0.990434 |  0.990479 |\n",
            "+------------------------+------------+-------------+----------+------------+-----------+\n",
            "| Multi-layer Perceptron |   0.947646 |    0.971052 | 0.923108 |   0.946473 |  0.947716 |\n",
            "+------------------------+------------+-------------+----------+------------+-----------+\n"
          ]
        }
      ]
    },
    {
      "cell_type": "code",
      "source": [
        "# Create a pandas DataFrame using the evaluation_results dictionary\n",
        "df_evaluation = pd.DataFrame(evaluation_results)\n",
        "\n",
        "# Set the Model column as the index for better visualization\n",
        "df_evaluation.set_index(\"Model\", inplace=True)\n",
        "\n",
        "# Plot the heatmap using seaborn\n",
        "plt.figure(figsize=(10, 6))\n",
        "sns.heatmap(df_evaluation, annot=True, cmap=\"YlGnBu\", fmt=\".4f\", linewidths=0.5)\n",
        "plt.title(\"Evaluation Metrics for Different Models\")\n",
        "plt.xlabel(\"Metrics\")\n",
        "plt.ylabel(\"Models\")\n",
        "plt.show()"
      ],
      "metadata": {
        "colab": {
          "base_uri": "https://localhost:8080/",
          "height": 564
        },
        "id": "1DVpqVzoTxTs",
        "outputId": "5e8e2bd0-bb83-4e7c-e80a-9c0144001a65"
      },
      "execution_count": null,
      "outputs": [
        {
          "output_type": "display_data",
          "data": {
            "text/plain": [
              "<Figure size 1000x600 with 2 Axes>"
            ],
            "image/png": "[encoded data removed]"
          },
          "metadata": {}
        }
      ]
    },
    {
      "cell_type": "code",
      "source": [
        "# Convert the data into a pandas DataFrame\n",
        "df_evaluation = pd.DataFrame(evaluation_results)\n",
        "\n",
        "# Set the Model column as the index for better visualization\n",
        "df_evaluation.set_index(\"Model\", inplace=True)\n",
        "\n",
        "# Remove \"Support Vector Machine\" from the DataFrame\n",
        "df_evaluation = df_evaluation.drop(\"Support Vector Machine\")\n",
        "df_evaluation = df_evaluation.drop(\"Logistic Regression\")\n",
        "df_evaluation = df_evaluation.drop(\"Multi-layer Perceptron\")\n",
        "df_evaluation = df_evaluation.drop(\"K-Nearest Neighbors\")\n",
        "# Plot the heatmap using seaborn\n",
        "plt.figure(figsize=(10, 6))\n",
        "sns.heatmap(df_evaluation, annot=True, cmap=\"YlGnBu\", fmt=\".4f\", linewidths=0.5)\n",
        "plt.title(\"Evaluation Metrics for best three models\")\n",
        "plt.xlabel(\"Metrics\")\n",
        "plt.ylabel(\"Models\")\n",
        "plt.show()\n"
      ],
      "metadata": {
        "colab": {
          "base_uri": "https://localhost:8080/",
          "height": 564
        },
        "id": "WiE1gKla7U3R",
        "outputId": "d95f3194-40c5-4621-d448-0b411b31b511"
      },
      "execution_count": null,
      "outputs": [
        {
          "output_type": "display_data",
          "data": {
            "text/plain": [
              "<Figure size 1000x600 with 2 Axes>"
            ],
            "image/png": "[encoded data removed]"
          },
          "metadata": {}
        }
      ]
    },
    {
      "cell_type": "markdown",
      "source": [
        "## **Conclusion:**\n",
        "\n",
        "We conducted a machine learning experiment to compare the performance of various classifiers on our dataset. The evaluation metrics used for assessment were accuracy, precision, recall, F1-score, and AUC-ROC. The models tested were Logistic Regression, Decision Tree, Random Forest, Gradient Boosting, Support Vector Machine, K-Nearest Neighbors, and Multi-layer Perceptron.\n",
        "\n",
        "Among the models, Random Forest, Gradient Boosting, and Decision Tree stood out as top performers with high accuracy, precision, recall, F1-score, and AUC-ROC values, showcasing their ability to effectively generalize on the dataset.\n",
        "\n",
        "On the other hand, Logistic Regression and K-Nearest Neighbors demonstrated decent performance, but slightly lower than the top models, while the Multi-layer Perceptron and SVM had respectable results but did not match the top models' level.\n",
        "\n",
        "It's important to note that the **Random Forest** model achieved impressive results in most evaluation metrics, making it a compelling choice for certain applications.\n"
      ],
      "metadata": {
        "id": "PiABY6Tk7fBf"
      }
    },
    {
      "cell_type": "markdown",
      "source": [
        "## Questions:\n",
        "\n",
        "**1. What are the key factors that predict fraudulent customer?**\n",
        "\n",
        "*Answer:*\n",
        "\n",
        "This is implemented in this block of code [Selecting Feature Variable](#scrollTo=mZNQpLrHOeTe). The key factors used for predicting fraudulent customers were determined after conducting tests on different combinations of columns. Eventually, we found that the columns ['step', 'type', 'amount', 'oldbalanceOrg', 'newbalanceOrig'] yielded the most significant results.\n",
        "\n",
        "\n",
        "**2. Do these factors make sense? If yes, How? If not, How not?**\n",
        "\n",
        "*Answer:*\n",
        "\n",
        "Yes, these factors make sense based on the observations from the tests conducted. The main features that significantly contribute to the accuracy of the model are \"step\", \"type\", and \"amount.\" These features were found to be crucial for achieving high predictive accuracy in identifying fraudulent customers.\n",
        "\n",
        "Furthermore, \"oldbalanceOrig\" and \"newbalanceOrig\" were identified as the second most important features. Their inclusion in the model led to a significant improvement in accuracy, elevating it from 80% to 99%. This highlights their relevance in capturing patterns related to fraudulent activities.\n",
        "\n",
        "However, in contrast, features like \"oldbalanceDest\" and \"newbalanceDest\" did not contribute significantly to the model's accuracy. This suggests that these particular attributes may not hold as much discriminatory power when it comes to detecting fraudulent behavior.\n",
        "\n",
        "In summary, the observations from the tests align with the identified key factors, demonstrating the rationale behind their selection in the predictive model. These features play a crucial role in differentiating fraudulent customers and contribute significantly to achieving high accuracy in fraud detection.\n",
        "\n",
        "**3. What kind of prevention should be adopted while company update its infrastructure?**\n",
        "\n",
        "*Answer:*\n",
        "\n",
        "- **Transaction Limits and Thresholds:** Establish transaction limits and thresholds for individual users or user groups. Transactions exceeding these limits should be subject to additional scrutiny.\n",
        "\n",
        "- **Fraud Scoring Models:** Develop fraud scoring models that assign risk scores to transactions based on various risk indicators. Transactions with high-risk scores require further investigation.\n",
        "\n",
        "- **Multi-factor Authentication (MFA):** Implement MFA for all user accounts and transactions, requiring additional verification methods beyond passwords, such as SMS codes, biometrics, or token-based authentication.\n",
        "\n",
        "- **Real-time Transaction Monitoring:** Use advanced analytics and machine learning algorithms to monitor transactions in real-time, detecting suspicious activities and flagging potential fraudulent transactions for immediate review.\n",
        "\n",
        "- **User Behavior Analysis:** Analyze user behavior patterns to establish baseline profiles for normal activities. Deviations from these patterns can indicate potential fraud and trigger alerts for further investigation.\n",
        "\n",
        "- **Velocity Checks:** Set up velocity checks to monitor the number of transactions or funds transferred within a specific timeframe. Unusually high transaction rates could indicate fraudulent behavior.\n",
        "\n",
        "\n",
        "**4. Assuming these actions have been implemented, how would you determine if they work?**\n",
        "\n",
        "*Answer:*\n",
        "\n",
        "- **Fraud Detection Rate:** Measure the percentage of detected fraudulent transactions out of the total number of fraudulent transactions. A higher fraud detection rate indicates better effectiveness in catching fraudulent activities.\n",
        "\n",
        "- **False Positive Rate:** Calculate the percentage of legitimate transactions incorrectly flagged as fraudulent. A lower false positive rate indicates fewer false alarms and a more accurate fraud detection system.\n",
        "\n",
        "- **Reduction in Fraud Losses:** Assess the monetary impact of fraud losses before and after implementing the preventive measures. A significant reduction in financial losses associated with fraud demonstrates the effectiveness of the measures.\n",
        "\n",
        "- **User Feedback and Complaints:** Collect feedback from users regarding their experiences with the new security measures. Positive feedback and a decrease in complaints about fraud-related issues indicate improved user trust and satisfaction.\n",
        "\n",
        "- **Time to Detect Fraud:** Measure the time it takes to identify fraudulent transactions from the moment they occur. A shorter detection time suggests quicker response and mitigation, reducing the impact of fraudulent activities.\n"
      ],
      "metadata": {
        "id": "svK2clyKbmy3"
      }
    },
    {
      "cell_type": "code",
      "source": [],
      "metadata": {
        "id": "gvfaqrJIYTwq"
      },
      "execution_count": null,
      "outputs": []
    }
  ]
}